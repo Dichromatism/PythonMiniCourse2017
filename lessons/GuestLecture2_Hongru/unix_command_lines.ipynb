{
 "cells": [
  {
   "cell_type": "markdown",
   "metadata": {},
   "source": [
    "# Motivations\n",
    "\n",
    "- minimum-typing programming\n",
    "- `Perl regexes have become a de facto standard, having a rich and powerful set of atomic expressions.`\n",
    "\n",
    "\n",
    "\n",
    "\n",
    "# Prepare files\n",
    "\n",
    "\n",
    "## Download the annotation file\n",
    "`curl http://downloads.yeastgenome.org/curation/chromosomal_feature/SGD_features.tab > SGD_features.tab`\n",
    "\n",
    "## Get the header\n",
    "`vi SGD_features.header`\n",
    "\n",
    "`primary standfor gene database id (sgdid) (mandatory)\n",
    "feature type (mandatory)\n",
    "feature qualifier (optional)\n",
    "feature name (optional)\n",
    "standard gene name (optional)\n",
    "alias (optional, multiples separated by |)\n",
    "parent feature name (optional)\n",
    "secondary sgdid (optional, multiples separated by |)\n",
    "chromosome (optional)\n",
    "start_coordinate (optional)\n",
    "stop_coordinate (optional)\n",
    "strand (optional)\n",
    "genetic position (optional)\n",
    "coordinate version (optional)\n",
    "sequence version (optional)\n",
    "description (optional)`\n",
    "\n"
   ]
  },
  {
   "cell_type": "markdown",
   "metadata": {},
   "source": [
    "## Short-hand Command lines\n",
    "\n",
    "`vi ~/.bash_profile`\n",
    "\n",
    "alias 'll' 'les'\n",
    "\n",
    "## Loop\n",
    "\n",
    "```\n",
    "for chr in `seq 1 3`\n",
    "do\n",
    "\n",
    "mkdir Chr$chr\n",
    "cp SGD_features.header Chr$chr\n",
    "\n",
    "done\n",
    "\n",
    "\n",
    "for chr in 1 2 3\n",
    "do\n",
    "\n",
    "rm -R Chr$chr\n",
    "\n",
    "done\n",
    "```\n",
    "\n",
    "\n",
    "## Make a combo table\n",
    "\n",
    "`awk '{print \"## \"NR\". \"$0}' SGD_features.header | cat - SGD_features.tab | les`\n",
    "\n",
    "\n",
    "\n",
    "## Awk\n",
    "\n",
    "### Predefined Variables\n",
    "\n",
    "- **NR** - Count of the number of input lines (real-time value)\n",
    "\n",
    "- **NF** - Count of the number of words in an input line ($NF corresponds to the last field)\n",
    "\n",
    "- **FILENAME** - Name of input file\n",
    "\n",
    "- **FS** - \"Field Separator\" character used to divide fields on the input line (default is all \"white space\"). FS assigned another character to change the field separator.\n",
    "\n",
    "\n",
    "\n",
    "\n",
    "\n",
    "\n",
    "- RS - \"Record Separator\" character delimiting records, which by default are single lines separated by a \"newline\".\n",
    "\n",
    "- OFS - \"Output Field Separator\" used when printing (default is a \"space\").\n",
    "\n",
    "- ORS - \"Output Record Separator\" used when printing (default is a \"newline\" character). \n"
   ]
  },
  {
   "cell_type": "markdown",
   "metadata": {},
   "source": [
    "\n",
    "```bash\n",
    "\n",
    "awk '{print NF}' SGD_features.tab | les\n",
    "\n",
    "awk -F '\\t' '{print NF}' SGD_features.tab | les\n",
    "\n",
    "## Setting conditions on fields\n",
    "\n",
    "awk -F '\\t' '{if ($10>1000 && $10<5000){print $0}}' SGD_features.tab | cut -f10 | les\n",
    "\n",
    "cut -f2 SGD_features.tab | sort | uniq -c | les\n",
    "\n",
    "grep pseudogene SGD_features.tab | les\n",
    "\n",
    "grep X_element SGD_features.tab | les\n",
    "\n",
    "grep X_element SGD_features.tab | grep -v X_element_comb | les\n",
    "\n",
    "grep centromere  SGD_features.tab | les\n",
    "\n",
    "awk -F '\\t' 'match ($2,/centromere$/){print $0}' SGD_features.tab | les\n",
    "\n",
    "awk -F '\\t' '{if ($10>1000 && $10<5000){print $0}}' SGD_features.tab | awk '{if ($2==\"CDS\"){print $0}}' | awk -F '\\t' '{print $11-$10}' | sed 's/-//g' | paste -sd+ - | bc\n",
    "\n",
    "```\n",
    "\n",
    "\n"
   ]
  },
  {
   "cell_type": "markdown",
   "metadata": {},
   "source": [
    "## Sed\n",
    "\n",
    "```bash\n",
    "## substitute\n",
    "les SGD_features.header | sed 's/feature/FEATURE/g' | les \n",
    "\n",
    "## delete\n",
    "les SGD_features.header | sed '1,2d' | les\n",
    "les SGD_features.header | sed '/alias/d' | les -N\n",
    "\n",
    "## print\n",
    "les SGD_features.header | sed -n '/alias/p' | les -N\n",
    "les SGD_features.header | sed -n '1,2p' | les -N\n",
    "\n",
    "```\n",
    "\n",
    "\n",
    "\n"
   ]
  },
  {
   "cell_type": "markdown",
   "metadata": {},
   "source": [
    "## Regex\n",
    "\n",
    "https://www.cs.tut.fi/~jkorpela/perl/regexp.html\n",
    "\n",
    "```bash\n",
    "\n",
    "les SGD_features.tab | perl -ne '/^S0+(\\d+)/;if($1>3000){print $_}' | les \n",
    "\n",
    "\n",
    "les SGD_features.tab | perl -ne '@F=split /\\t/; if ($F[3]=~/[A-Z]{3}[0-9]{3}$/){print $_}' | cut -f4 | les\n",
    "\n",
    "```\n",
    "\n",
    "\n",
    "\n"
   ]
  },
  {
   "cell_type": "markdown",
   "metadata": {},
   "source": [
    "## Extend the Pipe <()"
   ]
  },
  {
   "cell_type": "markdown",
   "metadata": {},
   "source": [
    "```\n",
    "les SGD_features.header | perl -ne 's/ \\(.+\\)//g; s/ /_/g; print $_' | les\n",
    "\n",
    "\n",
    "head -1 SGD_features.tab | sed 's/\\t/\\n/g' | paste <(cat SGD_features.header | perl -ne 's/ \\(.+\\)//g; s/ /_/g; print $_') - | les\n",
    "\n",
    "\n",
    "```\n"
   ]
  },
  {
   "cell_type": "markdown",
   "metadata": {},
   "source": [
    "## For fun"
   ]
  },
  {
   "cell_type": "markdown",
   "metadata": {},
   "source": [
    "`hongru@210.75.224.141`\n",
    "\n",
    "`cowsay 'go go go'`\n",
    "\n",
    "`cowsay -s 'go go go'`\n",
    "\n",
    "`sl`\n",
    "\n",
    "`cmatrix`\n",
    "\n"
   ]
  },
  {
   "cell_type": "code",
   "execution_count": null,
   "metadata": {
    "collapsed": true
   },
   "outputs": [],
   "source": []
  }
 ],
 "metadata": {
  "kernelspec": {
   "display_name": "Python 2",
   "language": "python",
   "name": "python2"
  },
  "language_info": {
   "codemirror_mode": {
    "name": "ipython",
    "version": 2
   },
   "file_extension": ".py",
   "mimetype": "text/x-python",
   "name": "python",
   "nbconvert_exporter": "python",
   "pygments_lexer": "ipython2",
   "version": "2.7.5"
  }
 },
 "nbformat": 4,
 "nbformat_minor": 0
}
