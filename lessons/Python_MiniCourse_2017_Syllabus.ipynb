{
 "cells": [
  {
   "cell_type": "markdown",
   "metadata": {},
   "source": [
    "## Python Mini Course, IVPP, 2017\n",
    "\n",
    "Welcome to the Python Mini Course! This is an approximately five week long course, where you will develop some basic programming skills in the Python language with an emphasis on bioinformatics, with a few extra odds and ends. This course is designed to be a resource to you - it is not graded, and you will get out of the course the amount of effort you put in. I hope you enjoy!\n",
    "\n",
    "**Course:** MWF, 9:30-11:00 am, Rm 321 (South Building)\n",
    "\n",
    "**Main Lecturer:** Dr. Melinda Yang\n",
    "\n",
    "**Email:** melyang@ivpp.ac.cn\n",
    "\n",
    "**Office Hours:** Tuesday, 4-5 pm (or by appointment)\n",
    "\n",
    "**Website:** www.github.com/melyang4/\n",
    "\n",
    "**Language:** The lectures and problem sets will be in English. If there are any difficulties with the speed of the lecture (or any other communication problems), please contact the lecturer. \n",
    "\n",
    "**Homework:** A set of exercises will be assigned after each lesson, and my estimate is that they should take you several hours to complete, especially if you have never programmed in any language before. While you should try them first by yourself, I encourage you to discuss the problems with other students, and especially for harder problems, discuss how to approach the question before starting. There are no grades for this course, but the amount you get out of the course (and how confusing the second half will be) is probably highly correlated to how much time and effort you spend on exercises. While I set no timelines, I highly encourage you to email me the Notebook or python script for each set of exercises as you complete them, so I can look through them and see your thought process. If I like your response, I may ask your permission to post your answer as a solution. \n",
    "\n",
    "*Keep in mind that several problems have been created for the first time for this course. Thus, there may be typos or unclear questions - please let me know ASAP if you think this is the case!*\n",
    "\n",
    "**Solutions:** By the end of the course, there will be solutions available for every exercise. The goal is to post them roughly a week after providing the exercises. \n",
    "\n",
    "**Mini-project:** The course will culminate with a small project to be done by yourself or in pairs. I will describe the plan later in the course, but loosely, they will be chosen by yourself (though I will have suggestions ready), be bioinformatics related, and of a suitable length to carry out in ~2 weeks. You will give a short presentation (~10 minutes) on:\n",
    "1. the background leading to the question\n",
    "2. how you approached the question (what were the steps?)\n",
    "3. any coding insights along the way (nifty tricks or unanticipated difficulties)\n",
    "4. results, if any"
   ]
  },
  {
   "cell_type": "markdown",
   "metadata": {},
   "source": [
    "### Schedule\n",
    "\n",
    "**Week 1**\n",
    "\n",
    "- 07/17: Basic UNIX commands, IPython Notebook, Variables in Python\n",
    "- 07/19: Different Data Types in Python (Storing data)\n",
    "- 07/21: Tests, Loops, and Escapes, and Nested Structures\n",
    "\n",
    "**Week 2**\n",
    "\n",
    "- 07/24: Manipulating Files and Processing Text\n",
    "- 07/26: Functions and Modules\n",
    "- 07/28: Avoiding and Dealing with Errors; Intro to Mini-projects\n",
    "\n",
    "**Week 3**\n",
    "\n",
    "- 07/31: Plotting in Python: matplotlib\n",
    "- 08/02: Numpy/Scipy\n",
    "- 08/04: Guest Lecture: Albert Ko on R\n",
    "\n",
    "**Week 4**\n",
    "\n",
    "- 08/07: Guest Lecture: Hongru Wang on Advanced Unix Techniques\n",
    "- 08/09: Guest Lecture: Peichien Tsai on more R techniques\n",
    "- 08/11: Other useful modules/catch-up day\n",
    "\n",
    "**Week 5**\n",
    "- 08/14: Presentations on mini-projects! (Journal Club in Afternoon)"
   ]
  },
  {
   "cell_type": "code",
   "execution_count": null,
   "metadata": {
    "collapsed": true
   },
   "outputs": [],
   "source": []
  }
 ],
 "metadata": {
  "kernelspec": {
   "display_name": "Python 2",
   "language": "python",
   "name": "python2"
  },
  "language_info": {
   "codemirror_mode": {
    "name": "ipython",
    "version": 2
   },
   "file_extension": ".py",
   "mimetype": "text/x-python",
   "name": "python",
   "nbconvert_exporter": "python",
   "pygments_lexer": "ipython2",
   "version": "2.7.13"
  }
 },
 "nbformat": 4,
 "nbformat_minor": 2
}
