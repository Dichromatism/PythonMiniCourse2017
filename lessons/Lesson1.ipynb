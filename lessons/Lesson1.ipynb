{
 "cells": [
  {
   "cell_type": "markdown",
   "metadata": {},
   "source": [
    "# Lesson 1: Introduction to Python\n",
    "\n",
    "Welcome to the Fu Lab Python Mini-course. In the next month, you will learn the basics of python in the context of using it for genetic analyses. This course is going to be presented in jupyter notebook - it is not necessary to also use the notebook, but it is a useful way of organizing code. \n",
    "\n",
    "Many of these lessons are directly taken or adapted from [a python bootcamp at UC Berkeley](intro-prog-bioinfo-2015.wikispaces.com) that I helped to teach from 2012-2016. \n",
    "\n",
    "## Topics:\n",
    "- Expectations for the course\n",
    "- Navigating the UNIX shell\n",
    "- Viewing the content of files\n",
    "- How to get help\n",
    "- Text editors"
   ]
  },
  {
   "cell_type": "markdown",
   "metadata": {},
   "source": [
    "### Expectations for the Course\n",
    "\n",
    "The idea behind the course is to create an environment for you to intensively work on developing your python programming skills and give you a crash course in the basics of the language. By the end of the course, you will not be an expert on python, but you should be able to write simple scripts and have the groundwork and general vocabulary to effectively use the internet and/or other resources to teach you fancier tricks. Most importantly, you should be able to ask yourself a question and start envisioning what ways you can write code that will help you arrive at an answer. \n",
    "\n",
    "Perhaps a tiresome phrase for you by now, but it is very true: learning to code is like learning a new language. It takes lots of practice, and it continuously feels hard and unintuitive until suddenly, it starts sticking. Just keep trying and asking questions--it will just get easier and easier!\n",
    "\n",
    "Some potentially useful references include:\n",
    "- [style guide for Python](http://www.python.org/dev/peps/pep-0008/)\n",
    "- [Learning Python](http://proquest.safaribooksonline.com/1-56592-464-9)\n",
    "- [Python Pocket Reference](http://proquest.safaribooksonline.com/9780596802011)\n",
    "- [Python Website (documentation)](https://docs.python.org/release/2.7.11/)\n",
    "- [Linux Pocket Guide](http://proquest.safaribooksonline.com/9780596806347) (for Unix)\n",
    "- [Python Code Visualization](http://www.pythontutor.com/visualize.html#mode=edit)\n"
   ]
  },
  {
   "cell_type": "markdown",
   "metadata": {},
   "source": [
    "## Basic Tools Required\n",
    "\n",
    "Before we touch any python, let's go over some of the main tools you will use as you write in python, as well as another language - Unix. \n",
    "\n",
    "The shell is the the way you interact with your operating system. Most of you are used to the graphical user interface (GUI) you see when you turn on a computer - clicking the start button allows you to access a folder, which contains files that you double click to open within the relevant default application. However, there is a command line user interface (CLI) that is very useful as well. Both Linux and Mac operating systems use the CLI **Terminal**, in which we use the Unix language for navigation. In Windows operating system, this CLI is the **Command Prompt**, which uses a different language. If you have a Windows operating system, you should have already installed cygwin, a CLI that allows you to use UNIX in a Windows computer. \n",
    "\n",
    "The next vital piece in writing python code is a text editor. Your python code is usually written to a text file ending in \".py\", and then you can use the Unix commands to access and run the python script from your shell (Terminal). Sometimes, you may also want to use an interpreter, or a program that allows you to directly execute commands without calling on a script you save to file. Here, we will gain familiarity with the Terminal (or cygwin) shell and the Unix language, and use jupyter notebook to write our code to file and as an interpreter. Jupyter notebook can also be used as a shell, making it a powerful one stop shop for all the main tools you use to begin coding. \n",
    "\n"
   ]
  },
  {
   "cell_type": "markdown",
   "metadata": {},
   "source": [
    "## Navigating the UNIX shell\n",
    "\n",
    "We will begin by briefly exploring how to use Terminal (if you are using a Windows computer, then opening the Terminal means opening cygwin). Open the Terminal - you should see < username >@< whatever computer >. Type 'pwd'. From here, you get a file path indicating the set of folders leading to your current directory. That is, if you were navigating as you normally would on a your computer, you would have to click on each of these folders, from left to right, to end up in the folder the Terminal is waiting in (your 'working directory'). \n",
    "\n",
    "* **pwd**   = print working directory \n",
    "* **ls**    = list all files/folders in the directory\n",
    "* **cd**    = change the working directory (type the filepath to the requested directory)\n",
    "* **echo**  = print to screen whatever string follows the command\n",
    "* **mkdir** = make a new directory\n",
    "* **rmdir** = remove a directory (can only be done if the directory is empty)\n",
    "* **cat**   = print all contents of a file to screen\n",
    "* **rm**    = remove a file\n",
    "* **cp**    = copy a file (to a new filename and/or directory)\n",
    "* **mv**    = move a file (rename file or move to a different directory)\n",
    "* **head**  = print the first few lines of file to Terminal (default = 10)\n",
    "* **tail**  = print the last few lines of file to Terminal (default = 10)\n",
    "* **grep**  = search for an expression and print line(s) containing that expression\n",
    "* **cut**   = print certain columns of the file (based on delimiter or by character)\n",
    "* **less**  = opens a file within the Terminal screen as a text file (use q to exit)\n",
    "* **man**   = gives manual for UNIX command you include after 'man'\n",
    "\n",
    "\n",
    "Try some of the following. \n",
    "\n",
    "```bash\n",
    "pwd\n",
    "cd /< file path to your Documents directory >/\n",
    "mkdir Python_MiniCourse2017/\n",
    "cd Python_MiniCourse2017/\n",
    "echo hello\n",
    "echo hello > hello.txt     ## '>' indicates rather than print to screen, print to the specified file. \n",
    "cat hello.txt\n",
    "echo \"how are you\" > hello.txt  ## What happened?\n",
    "cat hello.txt\n",
    "echo \"I am excited to learn Unix commands!\" >> hello.txt ##What happened here?\n",
    "cat hello.txt\n",
    "\n",
    "rmdir Python_MiniCourse2017/  #What error did we get? \n",
    "cd ..\n",
    "rmdir Python_MiniCourse2017/  #Now what error did we get?\n",
    "cd Python_MiniCourse2017/\n",
    "ls\n",
    "mkdir testdir/\n",
    "ls testdir/\n",
    "echo \"Let's fill the test directory!\" > testdir/testfile.txt\n",
    "ls testdir/\n",
    "cat testdir/testfile.txt\n",
    "rmdir testdir/\n",
    "rm testdir/testfile.txt\n",
    "rmdir testdir/\n",
    "ls\n",
    "\n",
    "cp hello.txt hello_copy.txt\n",
    "mkdir Lesson1\n",
    "mv hello.txt Lesson1/\n",
    "cat hello.txt\n",
    "cat Lesson1/hello.txt\n",
    "cp hello_copy.txt Lesson1/hello_copy2.txt\n",
    "cp hello_copy.txt Lesson1/hello_copy2.txt\n",
    "ls Lesson1/\n",
    "```\n",
    "\n",
    "#### Important: Be very careful with rm and rmdir and the '>' sign. You can easily delete an important document, and these deleted documents are not saved in your Trash or Recycle Bin! \n",
    "\n",
    "Let's download this file: [Pythons of the World](https://intro-prog-bioinfo-2015.wikispaces.com/file/view/pythons_of_the_world.txt/556090701/pythons_of_the_world.txt). Make a new directory in Python_MiniCourse2017/ called \"resources\" and move the Pythons of the World text file to the resources folder under the new name \"worldpythons.txt\". While you can do this using the GUI, I encourage you to do this using only Unix commands. \n",
    "\n",
    "### Reading through files\n",
    "\n",
    "Earlier, we used cat to quickly look at the contents of our files. 'cat' stands for concatenate, so it's actual function it to put the contents of files together and then print it to screen. For instance, if you were to write two filenames after 'cat', you would get both files printed to screen in order by filenames.\n",
    "\n",
    "```bash\n",
    "cd ~/Documents/Python_MiniCourse2017/Lesson1/\n",
    "cat ../resources/worldpythons.txt hello.txt    ##The ../ is a quickhand way of saying 'look backwards one directory'. \n",
    "cd ../resources/\n",
    "```\n",
    "\n",
    "A problem with looking at files through cat is that it is difficult to view large files printed to Terminal. 'head' and 'tail' allow you to look at the head or tail of the file, with a default of 10 lines. \n",
    "\n",
    "```bash\n",
    "head worldpythons.txt\n",
    "tail worldpythons.txt\n",
    "```\n",
    "\n",
    "However, sometimes you might want to look at the whole file. Another command you can use is 'less', which opens the file within the Terminal, allowing you to look through the document one screen at a time. It opens from the top of the file, and you use arrow keys to scroll up and down. The space bar allows you to move a screen's worth of text, allowing faster scrolling. The default is word wrapping, but you can use '-S' to chop the long lines (thus you would need left and right arrow keys to view the long sentences). Typing /word will search for 'word' in the file and highlight wherever it appears. Type 'q' to exit.\n",
    "\n",
    "```bash\n",
    "less worldpythons.txt\n",
    "```\n",
    "\n",
    "We can also search these files using grep. \n",
    "\n",
    "```bash\n",
    "grep Aspidites worldpythons.txt\n",
    "```\n",
    "\n",
    "### Extra options for above commands\n",
    "\n",
    "Above, we went through some of the basic functions of some UNIX commands. However, there are many sub-options for each of these commands that you may find useful. Here, we will illustrate a few commonly used ones and run through how to get more information on these options using 'man', a command that allows you to read the manual for the UNIX command in question.\n",
    "\n",
    "```bash\n",
    "ls -lrth\n",
    "man ls\n",
    "```\n",
    "\n",
    "Here, the '-l' option uses the long listing format. That is, more detail is provided. '-t' sorts your files by time, from most recently edited to the oldest edited. Since the filenames are printed to screen, we normally read the end of the printed string--thus, we reverse the order using '-r', printing from the oldest edited to the most recently edited. Lastly, the '-l' option also includes the file sizes, but they are just very large numbers. Adding '-h' makes this human-readable. Here, that means it switches these size output so that they are based on K (kilobytes), M (megabytes), G (gigabytes) and T (terabytes) for easy reading. \n",
    "\n",
    "Other useful commands include:\n",
    "\n",
    "```bash\n",
    "head -n 1 worldpythons.txt\n",
    "tail -n 1 worldpythons.txt\n",
    "grep -n Aspidites worldpythons.txt\n",
    "```\n",
    "\n",
    "cut is a command allowing you to selectively pull out columns, separating by a delimiter. For instance, \n",
    "\n",
    "\n",
    "\n",
    "```bash\n",
    "cut -c2-4 hello.py\n",
    "cut -f' ' -c2-4\n",
    "```\n",
    "\n",
    "\n",
    "\n",
    "\n",
    "\n",
    "\n"
   ]
  },
  {
   "cell_type": "markdown",
   "metadata": {},
   "source": [
    "## Special characters\n",
    "\n",
    "### wildcard matching with the *\n",
    "\n",
    "The star functions as a \"wild-card\" character that matches any number of characters.\n",
    "\n",
    "```bash\n",
    "ls\n",
    "ls *txt\n",
    "```\n",
    "\n",
    "The star can go anywhere in a list of arguments you're supplying, even in the middle of words! There are [other wildcards you can use](https://en.wikibooks.org/wiki/A_Quick_Introduction_to_Unix/Wildcards) but * is the most common.\n",
    "\n",
    "\n",
    "### pipe |\n",
    ">(the one above the backslash \"\\\" key)\n",
    "\n",
    "Piping with | connects UNIX commands, allowing the output of one command to \"flow through the pipe\" to another. This lets you chain programs together, such that each one only needs to worry about one step of the process (either generating, filtering, or modifying data), without knowing or caring where it came from or where it's going to.\n",
    "\n",
    "```bash\n",
    "env\n",
    "```\n",
    "\n",
    "The 'env' command returns a list of environment variables.  We won't go over what they mean here, but rather we're using this to demonstrate that some commands might return too much text to usefully view in the terminal.\n",
    "\n",
    "However, you can use the | character to direct the output to another program to show just portion.  \n",
    "For example, the head command to show just the first few lines:\n",
    "\n",
    "\n",
    "```bash\n",
    "env | head\n",
    "```\n",
    "\n",
    "Or, so you were just trying to find the value of the HOME variable.  You could use grep to isolate just this portion.\n",
    "\n",
    "```bash\n",
    "env | grep HOME\n",
    "```"
   ]
  },
  {
   "cell_type": "markdown",
   "metadata": {},
   "source": [
    "## Permissions\n",
    "\n",
    "Unlike the computers you are used to, UNIX doesn't automatically know what to do with files (e.g. It won't know to use Word to open a .doc document), and it doesn't even know whether a file is data or a program (and as we'll see with the programs we write, it might be different things at different times)\n",
    "\n",
    "The first thing that controls a file is the file's permissions. You can control who can read, write, and execute (run as a program) each of your files. This command lists the permissions:\n",
    "\n",
    "```bash\n",
    "ls -la\n",
    "```\n",
    "\n",
    "The first letter tells you whether it is a directory.\n",
    "\n",
    "The next set of letters tell you if a file is readable (r), writable (w), or executable (x).\n",
    "\n",
    "The 2nd-4th letters tell you what *your* permissions are, 5th-7th tell you what your group's permissions are, and the last three tell you what everyone else's permissions are. Unix was designed to be a multi-user operating system, so even if you're the only one who uses the computer, it maintains the distinction for you, versus your group, versus everyone else.\n",
    "\n",
    "### chmod - Modify permissions.\n",
    "chmod [flags] [filename]\n",
    "\n",
    "```bash\n",
    "echo 'script' > script.py\n",
    "ls -l script.py\n",
    "chmod +x script.py\n",
    "ls -l script.py\n",
    "```\n",
    "\n",
    "If you try running a program and it's not working at some point in the class, double check the permissions!!!"
   ]
  },
  {
   "cell_type": "markdown",
   "metadata": {},
   "source": [
    "### Other useful commands\n",
    "\n",
    "I will not explain these now, but in the exercises for today's lesson, you will explore these UNIX commands and test them out. For now we will move on to the Jupyter notebook and our first python commands!\n",
    "1. **gzip** - Used for zipping/unzipping files that end in .gz\n",
    "2. **tar** - Used for bundling/unbundlind archives that in in .tar\n",
    "3. **find** - Search for files that match a pattern\n",
    "4. **wget** - Download a file from the internet"
   ]
  },
  {
   "cell_type": "markdown",
   "metadata": {},
   "source": [
    "## Jupyter notebook basics\n",
    "\n",
    "[Jupter notebook](http://jupyter-notebook.readthedocs.io/en/latest/) was previously known as IPython notebook, and it is the main tool we will be using to write and execute our scripts. Not only is it useful for developing our scripts, but it is also a great organizer and actual notebook. All of the lectures, including this one, are provided in a notebook, so you will get many examples of its utility. While we do not explore all of the functions of the notebook, we highlight some of the basics here so you can navigate and write in these notebooks easily. \n",
    "\n",
    "* The easiest way of accessing the notebook is opening a terminal and typing in \"jupyter notebook\". Currently, this might not be working for Windows users - another way is to use the Anaconda Navigator and click on the \"Jupyter Notebook\" in your start screen. This will do the same. \n",
    "* What opens is a web-based user interface with the files in the directory you opened in terminal (or your home directory when opening through Anaconda Navigator). Going to the top right and clicking \"New\" followed by \"Python 2\" under 'Notebook' will open your first jupyter notebook (ends in .ipynb) like the one we observe here. \n",
    "\n",
    "    Note that while we open and use the notebook in a web browser, the notebook is still running from that Terminal screen. Exiting the Terminal screen will close the notebook, so minimize this Terminal screen and open a new one if you want to further use Terminal. \n",
    "\n",
    "```bash\n",
    "jupyter notebook\n",
    "```\n",
    "\n",
    "* Each time you open a notebook, you are opening a kernel. Sometimes you may need to restart or reconnect to a kernel (look under the Kernel option). Other times you may want to interrupt the kernel, stopping whatever action is being undertaken. I use these most when I accidentally run something too large for my notebook to handle - interrupting stops the kernel but saves all your previous actions, while restart will stop the kernel but also will not save any of your previous actions within the kernel. \n",
    "\n",
    "* Each of these squares where we can write text is called a cell.By default each cell is a python interpreter. Going to \"Cell\"->\"Cell Type\"->\"Markdown\" turns it into a text displayer, allowing you to write just plain notes, as this cell current does. I will not be teaching all the different options for Markdown, but [this page](http://nestacms.com/docs/creating-content/markdown-cheat-sheet) provides some of the formatting you might be interested in.\n",
    "\n",
    "* The top bar includes many different options. While the notebook usually automatically saves periodically, you have a 'save option', followed by options to insert new cells, move cells around, and run the cells. Holding Shift+Enter will also run the active cell. You can also switch the cell format in the dropdown box. \n",
    "\n",
    "* Magic commands: One useful aspect of the notebook are [magic commands](https://ipython.org/ipython-doc/3/interactive/magics.html). We won't delve into magic commands here, but there are a few I use often, particularly %%bash and %%writefile"
   ]
  },
  {
   "cell_type": "code",
   "execution_count": null,
   "metadata": {
    "collapsed": true
   },
   "outputs": [],
   "source": [
    "%%bash\n",
    "ls\n",
    "## This allows you to treat the cell as a Terminal screen, and you can use UNIX commands"
   ]
  },
  {
   "cell_type": "code",
   "execution_count": null,
   "metadata": {
    "collapsed": true
   },
   "outputs": [],
   "source": [
    "%%writefile ~/Documents/PythonBootcamp2017/Lesson1/file_writefromnotebook.txt\n",
    "I am writing this file from within the notebook. \n",
    "\n",
    "I can write whatever I want and it will be written to a text file in the specified folder. \n",
    "\n",
    "If I don't write a filepath, this text file will be written into the home directory of the notebook."
   ]
  },
  {
   "cell_type": "markdown",
   "metadata": {},
   "source": [
    "* Last but not least, the default is that the cell treats what you type as if you wrote Python commands. For this final section of the day, we will begin to start writing in python!"
   ]
  },
  {
   "cell_type": "markdown",
   "metadata": {},
   "source": [
    "## Writing in Python - you're ready to begin!\n",
    "\n",
    "This entire lesson, you've learned about the Terminal, writing with the UNIX language, and gotten a brief intro into the Ipython notebook. However, you haven't started working with python yet! Here, we will begin with the simple command:"
   ]
  },
  {
   "cell_type": "code",
   "execution_count": null,
   "metadata": {
    "collapsed": true
   },
   "outputs": [],
   "source": [
    "print \"hello world\""
   ]
  },
  {
   "cell_type": "markdown",
   "metadata": {},
   "source": [
    "As you can see, when I typed\n",
    "```python\n",
    "print \"hello world\"\n",
    "```\n",
    "and pressed Shift+Enter, the notebook processed what I wrote in the cell and output it below the cell. Here, I used the function \n",
    "```python\n",
    "    print\n",
    "```\n",
    "to call the string \"hello world\". \"print\" is similar to echo in UNIX - it tells you to print to screen whatever comes after the command.\n",
    "\n",
    "However, you can also run these python scripts outside of the notebook. Below, we write \n",
    "```python\n",
    "print \"hello world\"\n",
    "print\n",
    "```\n",
    "into a text file using the magic command %%writefile and then run it through the bash/Terminal. Typically, python scripts are saved with the subscript \".py\" to indicate it is a python script. "
   ]
  },
  {
   "cell_type": "code",
   "execution_count": null,
   "metadata": {
    "collapsed": true
   },
   "outputs": [],
   "source": [
    "%%writefile ~/Desktop/PythonBootcamp2017/Lesson1/myfirstscript.py\n",
    "print \"hello world\"\n",
    "print"
   ]
  },
  {
   "cell_type": "code",
   "execution_count": null,
   "metadata": {
    "collapsed": true
   },
   "outputs": [],
   "source": [
    "%%bash\n",
    "\n",
    "python ~/Desktop/PythonBootcamp2017/Lesson1/myfirstscript.py\n",
    "##You can also do this directly in Terminal"
   ]
  },
  {
   "cell_type": "markdown",
   "metadata": {},
   "source": [
    "## Variables: integers, floating-point numbers (decimal), strings (text)\n",
    "\n",
    "Computer programming is useful because it allows the programmer to tell the computer to perform operations that are too boring, tedious, or difficult for the programmer to do by hand. A useful computer program needs to be able to interact with the user, perform operations on changing sets of data, and make decisions about how to proceed based on conditions specific to each instance of its execution. To achieve these tasks, computer programs employ variables.\n",
    "\n",
    "Variables in computer science are different from algebraic variables, just like algebraic variables are different from statistical variables or experimental variables. In Python, a variable is a datum with a human-readable name which is assigned a given value. Variables can be reassigned to different values as the logic of the program dictates (variables have variable values, hence variables). \n",
    "\n",
    "In Python, everything and every type of data, from numbers and text to vectors and functions, are called **objects**, and objects are stored in memory. Technically, the values of variables in Python are the memory address of these objects.  Variables point (reference) at data (objects). It is often easier to think of variables as 'storing' values, though some situtations will require understanding of the more technical memory-based definition.\n",
    "\n",
    "Python programs use variables to store parameters taken in from the user, the execution environment, or the data your program is being called upon to process.\n",
    "\n",
    "These variables are named whatever you like, within the strictures of a few basic rules:\n",
    "\n",
    "1. Python variable names are case-sensitive, so Var and var are different variables.\n",
    "2. Though variable names can contain letters, numbers and underscores ( _ ), they MUST start with a letter (a-z).\n",
    "3. Variable names, CANNOT contain spaces or special non-alphanumeric characters (e.g. holyS#+%? is naughty, but holyMackerel is kid tested, mother approved), nor can they be any of the following words that already have special meaning in python:"
   ]
  },
  {
   "cell_type": "code",
   "execution_count": null,
   "metadata": {
    "collapsed": true
   },
   "outputs": [],
   "source": [
    "    and    assert   break    class      continue   def      del      elif\n",
    "    else   except   exec     finally    for        from     global   if\n",
    "    import in       is       lambda     not        or       pass     print\n",
    "    raise  return   try      while      yield"
   ]
  },
  {
   "cell_type": "markdown",
   "metadata": {},
   "source": [
    "For the most part, ipython will remind you that these words are off-limits by coloring these words in helpful ways when you type them.\n",
    "\n",
    "\n",
    "Here are some invalid python variable names:\n",
    "\n",
    "**1sample\n",
    "sampleA.1\n",
    "class**\n",
    "\n",
    "And here are some good alternatives:\n",
    "\n",
    "**sample_1\n",
    "SampleA1\n",
    "bootcamp_class**"
   ]
  },
  {
   "cell_type": "markdown",
   "metadata": {},
   "source": [
    "## Variables, Objects, and Types\n",
    "\n",
    "Variables can reference (store) many different types of objects. Today we'll talk about three types of objects: integers, floating point (i.e. decimal) numbers, and strings.\n",
    "\n",
    "Run the following example, through which we'll explore a few properties of variables:"
   ]
  },
  {
   "cell_type": "code",
   "execution_count": null,
   "metadata": {
    "collapsed": true
   },
   "outputs": [],
   "source": [
    "# by the way, lines starting with the pound sign (#)\n",
    "# makes them comments, ignored by the interpreter\n",
    " \n",
    "s = 'hella world'\n",
    "i = 42\n",
    "f = 3.14159\n",
    "print s\n",
    "print 'the variable s is type',type(s)\n",
    " \n",
    "print i\n",
    "print 'the variable i is type',type(i)\n",
    " \n",
    "print f\n",
    "print 'the variable f is type',type(f)"
   ]
  },
  {
   "cell_type": "markdown",
   "metadata": {},
   "source": [
    "\n",
    " In general, variables are assigned by typing the name you want to use, followed by a single equals sign, then the value you'd like to store. This is the same whether the variable you're assigning is an object of type str (a character string), int (whole number), float (non-integer real number), or any number of other fancier things you'll be using in the next two weeks.\n",
    " \n",
    " \n",
    "While (as your program tells you with the handy type() function) i is currently an integer, that doesn't mean it cannot change. You can easily reassign i to be anything that takes your fancy, including the value of another variable. You would do this with a statement such as the following:"
   ]
  },
  {
   "cell_type": "code",
   "execution_count": null,
   "metadata": {
    "collapsed": true
   },
   "outputs": [],
   "source": [
    "i = s\n",
    " \n",
    "print i\n",
    "print 'the variable i is now type',type(i)"
   ]
  },
  {
   "cell_type": "markdown",
   "metadata": {},
   "source": [
    "There are plenty of cases where this is exactly what you want to do, but bear in mind that once a variable is re-assigned to a new value, the old value is lost forever.\n",
    "\n",
    "As an example, consider the case where (for some reason) you want to swap the values of two variables s and i. The first step might appear to be a line very much like the i = s statement above, but if you do this, the value of i is lost forever, meaning you can never assign it to s. This may seem like a rather abstract problem, (unless you've read ahead to today's exercises) but you'll encounter similar situations more often than you might think."
   ]
  },
  {
   "cell_type": "markdown",
   "metadata": {},
   "source": [
    "## Numerical operations\n",
    "\n",
    "Numerical values can be subjected to a wide variety of operations. While the full list is quite extensive (see [this link](http://docs.python.org/lib/typesnumeric.html for the full workup)), the most common operations should be familiar. For the most part, we use basic arithmetic operators exactly as you're used to seeing them.\n",
    "\n",
    "\n",
    "Note that standard mathematical order of operations applies, but it's far easier ... and safer ... to explicitly order compound operations using parentheses."
   ]
  },
  {
   "cell_type": "code",
   "execution_count": null,
   "metadata": {
    "collapsed": true
   },
   "outputs": [],
   "source": [
    "i = 42\n",
    "f = 3.14159\n",
    " \n",
    "# addition uses the plus sign (+)\n",
    "sum = i + f\n",
    "# subtraction uses the minus sign (-)\n",
    "diff = i - f\n",
    "# multiplication uses the asterisk (*)\n",
    "prod = i * f\n",
    "# division uses the slash (/)\n",
    "quo = i / f\n",
    "# and exponents use a double-asterisk (**)\n",
    "pow = i ** f\n",
    " \n",
    "print 'sum',sum\n",
    "print 'diff',diff\n",
    "print 'prod',prod\n",
    "print 'quo',quo\n",
    "print 'pow',pow\n",
    " \n",
    "x = 5\n",
    "print \"x = \", x\n",
    "x = x + 1\n",
    "print \"now x is one more than before = \", x\n",
    "x += 1\n",
    "print \"now x is one more than before = \", x"
   ]
  },
  {
   "cell_type": "markdown",
   "metadata": {},
   "source": [
    "Before we end, here are a few more functions related to thinking about the type of the variable you are using. Perhaps you have an integer but you'd rather treat it as a floating number (with decimals), or turn it into a string. You can use coercion functions such as:\n",
    "```python\n",
    "int()\n",
    "float()\n",
    "str()\n",
    "``` \n",
    "to turn an object into an integer, floating number, or string, respectively."
   ]
  },
  {
   "cell_type": "code",
   "execution_count": 2,
   "metadata": {},
   "outputs": [
    {
     "name": "stdout",
     "output_type": "stream",
     "text": [
      "5 5 5.0\n"
     ]
    }
   ],
   "source": [
    "x_int = 5\n",
    "y_flt = 10.2\n",
    "z_str ='4'\n",
    "\n",
    "x_str = str(x_int)\n",
    "x_flt = float(x_int)\n",
    "\n",
    "y_int = int(y_flt)\n",
    "y_str = str(y_flt)\n",
    "\n",
    "z_int = int(z_str)\n",
    "z_flt = float(z_str)\n",
    "\n",
    "print x_int, x_str, x_flt\n",
    "\n",
    "#result = x_int+y_flt+z_int; print result, type(result)  # What happens when you add floats and integers?\n",
    "#result = x_int+y_int+z_int; print result, type(result)  # What happens when you add all integers?\n",
    "#result = x_int+y_flt+z_str; print result, type(result)  #What happens when you add a string to numbers?\n",
    "#result = x_str+y_str+z_str; print result, type(result)  # What happens when you add all strings?\n"
   ]
  },
  {
   "cell_type": "markdown",
   "metadata": {},
   "source": [
    "We will end today's lesson here. Take a look at the exercises for Lesson 1 in the exercises folder."
   ]
  },
  {
   "cell_type": "code",
   "execution_count": null,
   "metadata": {
    "collapsed": true
   },
   "outputs": [],
   "source": []
  }
 ],
 "metadata": {
  "kernelspec": {
   "display_name": "Python 2",
   "language": "python",
   "name": "python2"
  },
  "language_info": {
   "codemirror_mode": {
    "name": "ipython",
    "version": 2
   },
   "file_extension": ".py",
   "mimetype": "text/x-python",
   "name": "python",
   "nbconvert_exporter": "python",
   "pygments_lexer": "ipython2",
   "version": "2.7.13"
  }
 },
 "nbformat": 4,
 "nbformat_minor": 1
}
