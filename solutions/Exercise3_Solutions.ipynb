{
 "cells": [
  {
   "cell_type": "markdown",
   "metadata": {},
   "source": [
    "## Exercise 3.1"
   ]
  },
  {
   "cell_type": "code",
   "execution_count": 8,
   "metadata": {},
   "outputs": [
    {
     "name": "stdout",
     "output_type": "stream",
     "text": [
      "Query [] is false\n"
     ]
    }
   ],
   "source": [
    "query = \"\" ##the empty string ##False\n",
    "query = [] ##False\n",
    "query = {} ##False\n",
    "query = [[]] ##True\n",
    "query =  0 ##False\n",
    "query = [0] ##True\n",
    "query = [0][0] ##False, also-- what is this? Print out the value of [0][0] and [1][0] before doing the truth test)\n",
    "query = [[ ]] [0] ##False\n",
    "\n",
    "if query:\n",
    "    print 'Query',query,'is true'\n",
    "else:\n",
    "    print 'Query',query,'is false'"
   ]
  },
  {
   "cell_type": "markdown",
   "metadata": {},
   "source": [
    "## Exercise 3.2"
   ]
  },
  {
   "cell_type": "code",
   "execution_count": 13,
   "metadata": {},
   "outputs": [
    {
     "name": "stdout",
     "output_type": "stream",
     "text": [
      "Enter a string of size nucleotides: AA\n",
      "Wrong length!\n",
      "Enter a string of size nucleotides: AAATGG\n",
      "ATG is found at index 2\n"
     ]
    }
   ],
   "source": [
    "while True:\n",
    "    myseq=raw_input(\"Enter a string of six nucleotides: \")\n",
    "    if len(myseq) != 6: \n",
    "        print \"Wrong length!\"\n",
    "        continue\n",
    "    else: \n",
    "        myindex=-1\n",
    "        for i in range(4):\n",
    "            if myseq[i:(i+3)]==\"ATG\": myindex=i\n",
    "        print \"ATG is found at index %i\" % myindex\n",
    "    break"
   ]
  },
  {
   "cell_type": "markdown",
   "metadata": {},
   "source": [
    "## Exercise 3.3"
   ]
  },
  {
   "cell_type": "code",
   "execution_count": 16,
   "metadata": {},
   "outputs": [
    {
     "name": "stdout",
     "output_type": "stream",
     "text": [
      "True\n",
      "False\n"
     ]
    }
   ],
   "source": [
    "x=5\n",
    "y=5\n",
    "print x is y \n",
    "\n",
    "x=10000\n",
    "y=10000\n",
    "print x is y\n",
    "\n",
    "##Small numbers are cached and the variables point to this singleton instance (they both point at the same number).\n",
    "##Large numbers function as expected - each data object is different, despite have the same value.\n",
    "##x and y thus point to different objects that look the same. "
   ]
  },
  {
   "cell_type": "markdown",
   "metadata": {},
   "source": [
    "## Exercise 3.4"
   ]
  },
  {
   "cell_type": "code",
   "execution_count": 18,
   "metadata": {},
   "outputs": [
    {
     "name": "stdout",
     "output_type": "stream",
     "text": [
      "Give me a gene name (add '>' in front): gene1\n",
      "Give me the associated sequence: AAA\n",
      "Give me a gene name (add '>' in front): gene2\n",
      "Give me the associated sequence: TTT\n",
      "Give me a gene name (add '>' in front): gene3\n",
      "Give me the associated sequence: GGG\n",
      "{'gene1': 'AAA', 'gene2': 'TTT', 'gene3': 'GGG'}\n"
     ]
    }
   ],
   "source": [
    "fastadat={}\n",
    "\n",
    "for i in range(6):\n",
    "    if i%2==0:\n",
    "        gene=raw_input(\"Give me a gene name (add '>' in front): \")\n",
    "    else: \n",
    "        seq=raw_input(\"Give me the associated sequence: \")\n",
    "        fastadat[gene]=seq\n",
    "print fastadat\n",
    "    "
   ]
  },
  {
   "cell_type": "markdown",
   "metadata": {},
   "source": [
    "## Exercise 3.5"
   ]
  },
  {
   "cell_type": "code",
   "execution_count": 19,
   "metadata": {},
   "outputs": [
    {
     "name": "stdout",
     "output_type": "stream",
     "text": [
      "The total number of basepairs is: 540\n",
      "For base A, the maximum distance between As is 10\n",
      "For base C, the maximum distance between Cs is 100\n",
      "For base T, the maximum distance between Ts is 16\n",
      "For base G, the maximum distance between Gs is 22\n"
     ]
    }
   ],
   "source": [
    "##Example 2: using the sequence of nucleotide bases from before, \n",
    "##what is the longest unbroken distance (number of base pairs) separating \n",
    "##two of the exact same nucleotide base. \n",
    "\n",
    "seq = ('TTACCCGGGGTTAAAGTTGAATATTAAGGAGTGTAGTAGTACGAATAAACCGGCTCGAAC'\n",
    "       'TATTACCTTTAGGAAATTTAAGTTTAAGTAGGAAGAAAAAATAAAAAAGTTAAAGAAGAA'\n",
    "       'GGAGGATATAATTAAAGTTTTATAAATATAGAGAAGGTAAAAGAAGCGTTAGAAAAATGG'\n",
    "       'ATATTAATCTTAGAAAAGATTAATATAATAAAAGACTTTAAATTTACCTTTCGCAAACTT'\n",
    "       'AATAGAGAATTTATAAGTATTGTAAAGGAATTCGTCCTATATTAAAAGAAAAATTGAAGG'\n",
    "       'AGGAAAATAAATTAATAAATATTAGAATATAAAATAATTATAAAAGAAGTATAGAAGATA'\n",
    "       'TACTAGGAGTAGTTTAAGTACCGAATAGTATCGAATTAAAGGGAATTTATTAAAGCTATA'\n",
    "       'ATAAAAAAGAAGAGGATTATTATAAAGGCTTAATAGGCTACGTAGTACAATAGTATTACC'\n",
    "       'GAAGCTTCGAAGAATCTAAATCGATTCTAATTATTAGAATAATAGGCTTGGATCCGAAGT') ##Sequence - paranthesis allows us to separate this single string onto multiple lines to view more clearly.\n",
    "\n",
    "basepos = {base:[] for base in \"AGCT\"}  ##Initialize dictionary with keys of A, G, C, T and empty lists as values\n",
    "\n",
    "for pos,base in enumerate(seq): \n",
    "    basepos[base].append(pos) ##Loop over every base in seq, and add the position of the base to the list associated with that base\n",
    "\n",
    "diffs = {base:{} for base in \"AGCT\"} ##Initialize dictionary with keys of A, G, C, T and empty dictionaries as values\n",
    "\n",
    "for base in basepos: ##Loop over every list in basepos (do following actions for each base)\n",
    "    for index,pos in enumerate(basepos[base]): ##Loop over each position in a list\n",
    "        if index == 0: continue ##Skip the first position in the list\n",
    "        numposbtwn = pos-basepos[base][index-1] ##Subtract your previous position from your current position\n",
    "        if numposbtwn in diffs[base]: ##Add this difference to your dictionary diffs\n",
    "            diffs[base][numposbtwn]+=1 ##Add another count if this difference already is recorded\n",
    "        else:\n",
    "            diffs[base][numposbtwn]=1 ##Initialize a dictionary entry for this difference noting it has occurred once thus far.\n",
    "\n",
    "print \"The total number of basepairs is:\", len(seq) ##Print the total number of base pairs\n",
    "\n",
    "for i in diffs:  ##Loop over each base A/G/C/T, and list the maximum difference for that base.\n",
    "    print \"For base {0}, the maximum distance between {0}s is {1}\".format(i, max(diffs[i].keys()))\n"
   ]
  },
  {
   "cell_type": "markdown",
   "metadata": {},
   "source": [
    "## Exercise 3.6"
   ]
  },
  {
   "cell_type": "code",
   "execution_count": 38,
   "metadata": {},
   "outputs": [
    {
     "name": "stdout",
     "output_type": "stream",
     "text": [
      "at index 4\n",
      "at index 4\n",
      "at index 4\n",
      "[1, 2, 4, 8, 16, 32, 64]\n",
      "[1, 2, 4, 8, 16, 32, 64]\n"
     ]
    }
   ],
   "source": [
    "L = [1,2,4,8,16,32,64]\n",
    "x = 4\n",
    "\n",
    "##3.6A\n",
    "i = 0\n",
    "while i < len(L):\n",
    "    #check if 2 to the power\n",
    "    #of x is in the list\n",
    "    if 2 ** x == L[i]:\n",
    "        print 'at index', i\n",
    "        break\n",
    "    else:\n",
    "        i = i+1 \n",
    "else:\n",
    "    print x, 'not found'\n",
    "    \n",
    "##3.6B\n",
    "for i,val in enumerate(L):\n",
    "    #check if 2 to the power\n",
    "    #of x is in the list\n",
    "    if 2 ** x == L[i]:\n",
    "        print 'at index', i\n",
    "        break\n",
    "else:\n",
    "    print x, 'not found'\n",
    "    \n",
    "##3.6C\n",
    "print 'at index '+str(L.index(2 ** x)) if 2 ** x in L else str(x)+\" not found\"\n",
    "\n",
    "##3.6D\n",
    "L = []\n",
    "for i in range(7): L.append(2**i)\n",
    "print L\n",
    "\n",
    "##3.6E\n",
    "L = [2**i for i in range(7)]\n",
    "print L"
   ]
  },
  {
   "cell_type": "markdown",
   "metadata": {},
   "source": [
    "## Exercise 3.7"
   ]
  },
  {
   "cell_type": "code",
   "execution_count": 45,
   "metadata": {},
   "outputs": [
    {
     "name": "stdout",
     "output_type": "stream",
     "text": [
      "['TallnessGene', 'SmartnessGene']\n",
      "CCCTCCA\n",
      "CCCCCCA\n",
      "T\n"
     ]
    }
   ],
   "source": [
    "##3.7A\n",
    "human={\"TallnessGene\":\"AATAGCAG\", \"SmartnessGene\":\"TGACGGA\"}\n",
    "mouse={\"FuzzynessGene\":\"CCCCCCA\",\"BeadyLittleEyesGene\":\"ATAGCGC\"}\n",
    "rat={\"FuzzynessGene\":\"CCCTCCA\",\"BiggerThanMouseGene\":\"GGACAATT\"}\n",
    "mydat={\"human\":human,\"mouse\":mouse,\"rat\":rat}\n",
    "\n",
    "##3.7B\n",
    "print mydat[\"human\"].keys()\n",
    "\n",
    "##3.7C\n",
    "for species in mydat:\n",
    "    if \"FuzzynessGene\" in mydat[species].keys(): print mydat[species][\"FuzzynessGene\"]\n",
    "        \n",
    "##3.7D\n",
    "print mydat[\"human\"][\"TallnessGene\"][2]"
   ]
  },
  {
   "cell_type": "markdown",
   "metadata": {},
   "source": [
    "## Exercise 3.8"
   ]
  },
  {
   "cell_type": "code",
   "execution_count": 48,
   "metadata": {},
   "outputs": [
    {
     "name": "stdout",
     "output_type": "stream",
     "text": [
      "[['a', 3, 5, 5], [2, 2, 4, 5], [3, 3, 4, 6]]\n",
      "[[2, 3, 5, 5], [2, 2, 4, 5], [3, 3, 4, 6]]\n"
     ]
    }
   ],
   "source": [
    "run1 = [2,3,5,5]\n",
    "run2 = [2,2,4,5]\n",
    "run3 = [3,3,4,6]\n",
    "listOfRuns = [run1,run2,run3]\n",
    "\n",
    "##3.8A\n",
    "run1[0]='a'\n",
    "print listOfRuns\n",
    "\n",
    "##3.8B\n",
    "run1 = [2,3,5,5]\n",
    "run2 = [2,2,4,5]\n",
    "run3 = [3,3,4,6]\n",
    "listOfRuns = [run1[:],run2[:],run3[:]]\n",
    "run1[0]='a'\n",
    "print listOfRuns"
   ]
  },
  {
   "cell_type": "markdown",
   "metadata": {},
   "source": [
    "## Exercise 3.9"
   ]
  },
  {
   "cell_type": "code",
   "execution_count": 51,
   "metadata": {},
   "outputs": [
    {
     "name": "stdout",
     "output_type": "stream",
     "text": [
      "[['i belong first!'], ['i belong first!'], ['i belong first!']]\n",
      "[['i belong first!'], [], []]\n"
     ]
    }
   ],
   "source": [
    "mylst=[[]]*3\n",
    "mylst[0].append(\"i belong first!\")\n",
    "print mylst\n",
    "\n",
    "##It's because you made a copy of the object point to the list - but they all point to the same list. \n",
    "##To avoid this, you can do:\n",
    "mylst = [[] for i in range(3)]\n",
    "mylst[0].append(\"i belong first!\")\n",
    "print mylst"
   ]
  },
  {
   "cell_type": "markdown",
   "metadata": {},
   "source": [
    "## Exercise 3.10"
   ]
  },
  {
   "cell_type": "code",
   "execution_count": 59,
   "metadata": {},
   "outputs": [
    {
     "name": "stdout",
     "output_type": "stream",
     "text": [
      "Rat genes:\n",
      "'BiggerThanMouseGene' has sequence 'GGACAATT'\n",
      "'FuzzynessGene' has sequence 'CCCTCCA'\n",
      "Mouse genes:\n",
      "'BeadyLittleEyesGene' has sequence 'ATAGCGC'\n",
      "'FuzzynessGene' has sequence 'CCCCCCA'\n",
      "Human genes:\n",
      "'TallnessGene' has sequence 'AATAGCAG'\n",
      "'SmartnessGene' has sequence 'TGACGGA'\n",
      "{'Rat': {'BiggerThanMouseGene': 'AATTGTCC', 'FuzzynessGene': 'TGGAGGG'}, 'Mouse': {'BeadyLittleEyesGene': 'GCGCTAT', 'FuzzynessGene': 'TGGGGGG'}, 'Human': {'TallnessGene': 'CTGCTATT', 'SmartnessGene': 'TCCGTCA'}}\n"
     ]
    }
   ],
   "source": [
    "human={\"TallnessGene\":\"AATAGCAG\", \"SmartnessGene\":\"TGACGGA\"}\n",
    "mouse={\"FuzzynessGene\":\"CCCCCCA\",\"BeadyLittleEyesGene\":\"ATAGCGC\"}\n",
    "rat={\"FuzzynessGene\":\"CCCTCCA\",\"BiggerThanMouseGene\":\"GGACAATT\"}\n",
    "mydat={\"Human\":human,\"Mouse\":mouse,\"Rat\":rat}\n",
    "\n",
    "##3.10A\n",
    "for species in mydat:\n",
    "    print \"%s genes:\" % species\n",
    "    for gene in mydat[species]:\n",
    "        print \"\\'%s\\' has sequence \\'%s\\'\" % (gene, mydat[species][gene])\n",
    "\n",
    "##3.10B\n",
    "rev_comp={}\n",
    "compdata={\"A\":\"T\",\"T\":\"A\",\"C\":\"G\",\"G\":\"C\"}\n",
    "for species in mydat:\n",
    "    rev_comp[species]={}\n",
    "    for gene in mydat[species]: \n",
    "        rev_comp[species][gene]=\"\"\n",
    "        for bp in mydat[species][gene][::-1]:\n",
    "            rev_comp[species][gene]+=compdata[bp]\n",
    "print rev_comp"
   ]
  },
  {
   "cell_type": "code",
   "execution_count": null,
   "metadata": {
    "collapsed": true
   },
   "outputs": [],
   "source": []
  }
 ],
 "metadata": {
  "kernelspec": {
   "display_name": "Python 2",
   "language": "python",
   "name": "python2"
  },
  "language_info": {
   "codemirror_mode": {
    "name": "ipython",
    "version": 2
   },
   "file_extension": ".py",
   "mimetype": "text/x-python",
   "name": "python",
   "nbconvert_exporter": "python",
   "pygments_lexer": "ipython2",
   "version": "2.7.13"
  }
 },
 "nbformat": 4,
 "nbformat_minor": 2
}
