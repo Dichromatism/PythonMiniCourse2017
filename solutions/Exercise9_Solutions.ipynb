{
 "cells": [
  {
   "cell_type": "markdown",
   "metadata": {},
   "source": [
    "## Exercise 9.1"
   ]
  },
  {
   "cell_type": "code",
   "execution_count": 11,
   "metadata": {},
   "outputs": [
    {
     "name": "stdout",
     "output_type": "stream",
     "text": [
      "0 AlaThrGlyAlaGlyAlaCysGlyThrAlaGlyThrGlyCysCysAlaGlyThrAlaGlyCysGlyCysGlyAlaThrGlyThrAlaGlyCysGlyAlaThrGlyAlaCysGlyCysAlaThrGlyAlaCysGlyCysGlyCysGlyAlaCysGlyCysGlyCysGlyAlaGlyThrGlyAlaGlyCysCysAlaThrAlaCysGlyCysAlaCysGlyCysAlaThrThrGlyGlyCysAla\n",
      "1 AlaThrGlyThrThrCysGlyAlaCysGlyCysAlaThrAlaCysGlyAlaCysGlyCysGlyCysAlaGlyThrAlaCysCysAlaGlyCysAlaAlaThrGlyAlaCysGlyCysAlaCysCysGlyGlyGlyAlaThrAlaCysAlaCysGlyAlaCysGlyCysGlyGlyAlaThrThrThrThrThrAlaCysGlyCysAlaCysCysGlyAlaGlyAlaThrAlaGlyCysAlaThrAlaAlaAlaAlaGlyAlaCysCysAlaThrThrAlaGly\n",
      "2 ThrThrAlaThrGlyGlyCysAlaCysCysCysAlaCysThrAlaGlyAlaGlyCysCysAlaGlyAlaThrThrAlaThrThrThrThrAlaAlaAla\n",
      "\n",
      "We get the same result using Bio.SeqUtils.bioS\n",
      "0 AlaThrGlyAlaGlyAlaCysGlyThrAlaGlyThrGlyCysCysAlaGlyThrAlaGlyCysGlyCysGlyAlaThrGlyThrAlaGlyCysGlyAlaThrGlyAlaCysGlyCysAlaThrGlyAlaCysGlyCysGlyCysGlyAlaCysGlyCysGlyCysGlyAlaGlyThrGlyAlaGlyCysCysAlaThrAlaCysGlyCysAlaCysGlyCysAlaThrThrGlyGlyCysAla\n",
      "1 AlaThrGlyThrThrCysGlyAlaCysGlyCysAlaThrAlaCysGlyAlaCysGlyCysGlyCysAlaGlyThrAlaCysCysAlaGlyCysAlaAlaThrGlyAlaCysGlyCysAlaCysCysGlyGlyGlyAlaThrAlaCysAlaCysGlyAlaCysGlyCysGlyGlyAlaThrThrThrThrThrAlaCysGlyCysAlaCysCysGlyAlaGlyAlaThrAlaGlyCysAlaThrAlaAlaAlaAlaGlyAlaCysCysAlaThrThrAlaGly\n",
      "2 ThrThrAlaThrGlyGlyCysAlaCysCysCysAlaCysThrAlaGlyAlaGlyCysCysAlaGlyAlaThrThrAlaThrThrThrThrAlaAlaAla\n"
     ]
    }
   ],
   "source": [
    "## Ex. 9.1A\n",
    "## Read about SeqIO.write by typing\n",
    "## \"SeqIO.write?\" into ipython\n",
    "## rec.seq.reverse_complement? to read about\n",
    "## how to reverse-complement a sequence\n",
    " \n",
    "from Bio import SeqIO\n",
    " \n",
    "# Read into the Scer genome file\n",
    "fasta='../resources/seq.fasta' #cerevisiae_genome.fasta'\n",
    "scer_genome = SeqIO.parse(fasta,\"fasta\")\n",
    " \n",
    "# Open a new filehandle\n",
    "# For the reverse-complement output\n",
    "outFile='revComp_cerevisiae_genome.fasta'\n",
    "outFasta = open(outFile,'w')\n",
    " \n",
    "for rec in scer_genome:\n",
    "    chromosome = rec.id\n",
    "    desc = rec.description+\" reverse complement\"\n",
    "    sequence = rec.seq\n",
    "    revComp = sequence.reverse_complement()\n",
    "    revCompseq = SeqIO.SeqRecord(revComp,id=chromosome,description=desc)\n",
    "    SeqIO.write(revCompseq,outFasta,\"fasta\")\n",
    " \n",
    "outFasta.close()\n",
    " \n",
    "## Ex. 9.1B\n",
    "def threecode(proteinSeq):\n",
    "    threecode = {'A':'Ala', 'B':'Asx', 'C':'Cys', 'D':'Asp',\n",
    "                 'E':'Glu', 'F':'Phe', 'G':'Gly', 'H':'His',\n",
    "                 'I':'Ile', 'K':'Lys', 'L':'Leu', 'M':'Met',\n",
    "                 'N':'Asn', 'P':'Pro', 'Q':'Gln', 'R':'Arg',\n",
    "                 'S':'Ser', 'T':'Thr', 'V':'Val', 'W':'Trp',\n",
    "                 'Y':'Tyr', 'Z':'Glx', 'X':'Xaa', '*':'Ter',\n",
    "                 'U':'Sel', 'O':'Pyl', 'J':'Xle',\n",
    "                 }\n",
    "    threeLetterSeq = \"\"\n",
    "    for aa in proteinSeq:\n",
    "        threeLetterSeq+=threecode[aa]\n",
    "    return threeLetterSeq\n",
    "\n",
    "scer_genome = SeqIO.parse(fasta,\"fasta\")\n",
    "for ind,rec in enumerate(scer_genome):\n",
    "    print ind, threecode(rec.seq) \n",
    "print    \n",
    "    \n",
    "## 9.1C\n",
    "print \"We get the same result using Bio.SeqUtils.bioS\"\n",
    "import Bio.SeqUtils as bioS\n",
    "## to read up on SeqUtils.seq3, type\n",
    "## bioS.seq3? in ipython\n",
    "scer_genome = SeqIO.parse(fasta,\"fasta\")\n",
    "for ind,rec in enumerate(scer_genome):\n",
    "    print ind, bioS.seq3(rec.seq)"
   ]
  },
  {
   "cell_type": "code",
   "execution_count": null,
   "metadata": {
    "collapsed": true
   },
   "outputs": [],
   "source": []
  }
 ],
 "metadata": {
  "kernelspec": {
   "display_name": "Python 2",
   "language": "python",
   "name": "python2"
  },
  "language_info": {
   "codemirror_mode": {
    "name": "ipython",
    "version": 2
   },
   "file_extension": ".py",
   "mimetype": "text/x-python",
   "name": "python",
   "nbconvert_exporter": "python",
   "pygments_lexer": "ipython2",
   "version": "2.7.13"
  }
 },
 "nbformat": 4,
 "nbformat_minor": 2
}
