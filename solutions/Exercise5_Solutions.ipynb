{
 "cells": [
  {
   "cell_type": "markdown",
   "metadata": {},
   "source": [
    "## Exercise 5.1"
   ]
  },
  {
   "cell_type": "code",
   "execution_count": 2,
   "metadata": {},
   "outputs": [
    {
     "name": "stdout",
     "output_type": "stream",
     "text": [
      "6\n",
      "None\n",
      "20\n",
      "None\n",
      "42\n",
      "None\n"
     ]
    }
   ],
   "source": [
    "##5.1A\n",
    "def xtimestwo(x):\n",
    "    print x*2\n",
    "    \n",
    "##5.1B\n",
    "def multiply(x,y):\n",
    "    print x*y\n",
    "\n",
    "##5.1C\n",
    "def multiplylist(xs):\n",
    "    print xs[0]*xs[1]\n",
    "    \n",
    "print xtimestwo(3)\n",
    "print multiply(4,5)\n",
    "print multiplylist([6,7])"
   ]
  },
  {
   "cell_type": "code",
   "execution_count": 3,
   "metadata": {},
   "outputs": [
    {
     "name": "stdout",
     "output_type": "stream",
     "text": [
      "6\n",
      "20\n",
      "42\n"
     ]
    }
   ],
   "source": [
    "##5.1D\n",
    "def xtimestwo(x):\n",
    "    return x*2\n",
    "\n",
    "def multiply(x,y):\n",
    "    return x*y\n",
    "\n",
    "def multiplylist(xs):\n",
    "    return xs[0]*xs[1]\n",
    "    \n",
    "print xtimestwo(3)\n",
    "print multiply(4,5)\n",
    "print multiplylist([6,7])"
   ]
  },
  {
   "cell_type": "markdown",
   "metadata": {},
   "source": [
    "## Exercise 5.2"
   ]
  },
  {
   "cell_type": "code",
   "execution_count": 8,
   "metadata": {},
   "outputs": [
    {
     "name": "stdout",
     "output_type": "stream",
     "text": [
      "3\n",
      "3\n",
      "\n",
      "[1, 2, 3, 4, 5]\n",
      "['x', 2, 3, 4, 5]\n",
      "\n",
      "{}\n",
      "{'x': 'y'}\n",
      "\n"
     ]
    }
   ],
   "source": [
    "##5.2A\n",
    "def changeint(myint):\n",
    "    myint+=1\n",
    "\n",
    "x=3\n",
    "print x\n",
    "changeint(x)\n",
    "print x\n",
    "print\n",
    "\n",
    "##5.2B\n",
    "def changelist(mylist):\n",
    "    mylist[0]='x'\n",
    "x=[1,2,3,4,5]\n",
    "print x\n",
    "changelist(x)\n",
    "print x\n",
    "print\n",
    "\n",
    "##5.2C\n",
    "def changedict(mydict):\n",
    "    mydict['x']='y'\n",
    "x={}\n",
    "print x\n",
    "changedict(x)\n",
    "print x\n",
    "print"
   ]
  },
  {
   "cell_type": "markdown",
   "metadata": {},
   "source": [
    "## Exercise 5.3"
   ]
  },
  {
   "cell_type": "code",
   "execution_count": 19,
   "metadata": {},
   "outputs": [
    {
     "name": "stdout",
     "output_type": "stream",
     "text": [
      "AAGTCT\n",
      "AAGTCT\n"
     ]
    }
   ],
   "source": [
    "##5.3A\n",
    "def revcomp1(seq):\n",
    "    ##METHOD 1##\n",
    "    compdata={\"A\":\"T\",\"T\":\"A\",\"C\":\"G\",\"G\":\"C\"}\n",
    "    seq=seq.upper()\n",
    "    seq=seq[::-1]\n",
    "    newseq=\"\"\n",
    "    for base in seq: \n",
    "        if base in compdata: newseq+=compdata[base]\n",
    "        else: newseq+=base\n",
    "    seq=newseq\n",
    "    return seq\n",
    "\n",
    "def revcomp2(seq):\n",
    "    ##METHOD 2##\n",
    "    seq=seq.lower()\n",
    "    seq=seq[::-1]\n",
    "    seq=seq.replace(\"a\",\"T\")\n",
    "    seq=seq.replace(\"g\",\"C\")\n",
    "    seq=seq.replace(\"c\",\"G\")\n",
    "    seq=seq.replace(\"t\",\"A\")\n",
    "    seq=seq.replace(\"n\",\"N\")\n",
    "    return seq\n",
    "\n",
    "print revcomp1(\"AGACTT\")\n",
    "print revcomp2(\"AGACTT\")"
   ]
  },
  {
   "cell_type": "code",
   "execution_count": 18,
   "metadata": {},
   "outputs": [
    {
     "name": "stdout",
     "output_type": "stream",
     "text": [
      "NNAAGTCT\n",
      "NNAAGTCT\n"
     ]
    }
   ],
   "source": [
    "##5.3B\n",
    "def revcomp1(seq):\n",
    "    ##METHOD 1##\n",
    "    compdata={\"A\":\"T\",\"T\":\"A\",\"C\":\"G\",\"G\":\"C\"}\n",
    "    seq=seq.upper()\n",
    "    seq=seq[::-1]\n",
    "    newseq=\"\"\n",
    "    for base in seq: \n",
    "        if base in compdata: newseq+=compdata[base]\n",
    "        else: newseq+=\"N\"\n",
    "    seq=newseq\n",
    "    return seq\n",
    "\n",
    "def revcomp2(seq):    \n",
    "    ##METHOD 2##\n",
    "    seq=seq.lower()\n",
    "    seq=seq[::-1]\n",
    "    seq=''.join(['n' if base not in \"agct\" else base for base in seq])\n",
    "    seq=seq.replace(\"a\",\"T\")\n",
    "    seq=seq.replace(\"g\",\"C\")\n",
    "    seq=seq.replace(\"c\",\"G\")\n",
    "    seq=seq.replace(\"t\",\"A\")\n",
    "    seq=seq.replace(\"n\",\"N\")\n",
    "    return seq\n",
    "\n",
    "print revcomp1(\"AGACTTN0\")\n",
    "print revcomp2(\"AGACTTN0\")"
   ]
  },
  {
   "cell_type": "markdown",
   "metadata": {},
   "source": [
    "## Exercise 5.4"
   ]
  },
  {
   "cell_type": "code",
   "execution_count": 21,
   "metadata": {},
   "outputs": [
    {
     "name": "stderr",
     "output_type": "stream",
     "text": [
      "mkdir: /Users/melyang/Desktop/PythonBootcamp2017/pylib: File exists\n"
     ]
    }
   ],
   "source": [
    "##ONLY DO THIS ONCE and from your Terminal!!\n",
    "mkdir ~/Desktop/PythonBootcamp2017/pylib\n",
    "echo 'PYTHONPATH=~/Desktop/PythonBootcamp2017/pylib' >> ~/.bash_profile\n",
    "echo 'export PYTHONPATH' >> ~/.bash_profile\n",
    "source ~/.bash_profile"
   ]
  },
  {
   "cell_type": "code",
   "execution_count": 20,
   "metadata": {},
   "outputs": [
    {
     "name": "stdout",
     "output_type": "stream",
     "text": [
      "Writing /Users/melyang/Desktop/PythonBootcamp2017/pylib/exercises.py\n"
     ]
    }
   ],
   "source": [
    "%%writefile ~/Desktop/PythonBootcamp2017/pylib/exercises.py\n",
    "\n",
    "def xtimestwo(x):\n",
    "    return x*2\n",
    "\n",
    "def multiply(x,y):\n",
    "    return x*y\n",
    "\n",
    "def multiplylist(xs):\n",
    "    return xs[0]*xs[1]\n",
    "\n",
    "def revcomp1(seq):\n",
    "    ##METHOD 1##\n",
    "    compdata={\"A\":\"T\",\"T\":\"A\",\"C\":\"G\",\"G\":\"C\"}\n",
    "    seq=seq.upper()\n",
    "    seq=seq[::-1]\n",
    "    newseq=\"\"\n",
    "    for base in seq: \n",
    "        if base in compdata: newseq+=compdata[base]\n",
    "        else: newseq+=\"N\"\n",
    "    seq=newseq\n",
    "    return seq\n",
    "\n",
    "print \"This is the exercises module.\""
   ]
  },
  {
   "cell_type": "code",
   "execution_count": 1,
   "metadata": {},
   "outputs": [
    {
     "name": "stdout",
     "output_type": "stream",
     "text": [
      "This is the exercises module.\n"
     ]
    }
   ],
   "source": [
    "##5.4A\n",
    "import exercises"
   ]
  },
  {
   "cell_type": "code",
   "execution_count": 2,
   "metadata": {
    "collapsed": true
   },
   "outputs": [],
   "source": [
    "##5.4B\n",
    "from exercises import *\n",
    "##The print statement in exercises.py is not printed!"
   ]
  },
  {
   "cell_type": "markdown",
   "metadata": {},
   "source": [
    "## Exercise 5.5"
   ]
  },
  {
   "cell_type": "code",
   "execution_count": 2,
   "metadata": {},
   "outputs": [
    {
     "name": "stdout",
     "output_type": "stream",
     "text": [
      "Overwriting /Users/melyang/Desktop/PythonBootcamp2017/pylib/sequence_tools.py\n"
     ]
    }
   ],
   "source": [
    "%%writefile ~/Desktop/PythonBootcamp2017/pylib/sequence_tools.py\n",
    "##5.5A\n",
    "def fastaparser(filename):\n",
    "    fh=open(filename,'r')  #Open the fasta file for reading\n",
    "    genes={}  \n",
    "    for line in fh:   \n",
    "        line=line.strip()  \n",
    "        if len(line)==0: continue\n",
    "        if line[0]=='>':  \n",
    "            gene_name=line[1:]   \n",
    "            genes[gene_name]=''  \n",
    "        else:\n",
    "            genes[gene_name]+=line \n",
    "    fh.close()\n",
    "    return genes\n",
    "\n",
    "def revcomp1(seq):\n",
    "    ##METHOD 1##\n",
    "    compdata={\"A\":\"T\",\"T\":\"A\",\"C\":\"G\",\"G\":\"C\"}\n",
    "    seq=seq.upper()\n",
    "    seq=seq[::-1]\n",
    "    newseq=\"\"\n",
    "    for base in seq: \n",
    "        if base in compdata: newseq+=compdata[base]\n",
    "        else: newseq+=\"N\"\n",
    "    seq=newseq\n",
    "    return seq"
   ]
  },
  {
   "cell_type": "code",
   "execution_count": 1,
   "metadata": {},
   "outputs": [
    {
     "name": "stdout",
     "output_type": "stream",
     "text": [
      "TTATGGCACCCACTAGAGCCAGATTATTTTAAA\n",
      "TTTAAAATAATCTGGCTCTAGTGGGTGCCATAA\n"
     ]
    }
   ],
   "source": [
    "##5.5B\n",
    "\n",
    "import sequence_tools\n",
    "\n",
    "pD=\"/Users/melyang/Desktop/PythonBootcamp2017/resources/\"\n",
    "myfilename=pD+\"seq.fasta\"\n",
    "mygene = sequence_tools.fastaparser(myfilename)['gene3']\n",
    "revcompgene = sequence_tools.revcomp1(mygene)\n",
    "print mygene\n",
    "print revcompgene"
   ]
  },
  {
   "cell_type": "code",
   "execution_count": 2,
   "metadata": {},
   "outputs": [
    {
     "name": "stdout",
     "output_type": "stream",
     "text": [
      "The fraction of bases that are different is 0.00265620283731\n"
     ]
    }
   ],
   "source": [
    "##5.5C\n",
    "import sequence_tools\n",
    "\n",
    "pD=\"/Users/melyang/Desktop/PythonBootcamp2017/resources/\"\n",
    "myfilename=pD+\"neanderthals.fasta\"\n",
    "\n",
    "genes = sequence_tools.fastaparser(myfilename)\n",
    "\n",
    "myseqs =[ i[1] for i in genes.items() ]\n",
    "\n",
    "diff,total=0,0\n",
    "for ind,i in enumerate(myseqs[0]):\n",
    "    total+=1\n",
    "    if i != myseqs[1][ind]: diff+=1\n",
    "print \"The fraction of bases that are different is\",float(diff)/total    "
   ]
  },
  {
   "cell_type": "markdown",
   "metadata": {},
   "source": [
    "## Exercise 5.6"
   ]
  },
  {
   "cell_type": "code",
   "execution_count": 5,
   "metadata": {},
   "outputs": [
    {
     "name": "stdout",
     "output_type": "stream",
     "text": [
      "ALA 54\n",
      "ARG 21\n",
      "ASN 14\n",
      "ASP 12\n",
      "GLN 6\n",
      "GLU 24\n",
      "GLY 45\n",
      "HIS 6\n",
      "ILE 54\n",
      "LEU 61\n",
      "LYS 19\n",
      "MET 13\n",
      "PHE 50\n",
      "PRO 25\n",
      "SER 18\n",
      "THR 27\n",
      "TRP 16\n",
      "TYR 17\n",
      "VAL 37\n"
     ]
    }
   ],
   "source": [
    "#initialize list to store sequence\n",
    "protSeq = []\n",
    "#open pdb file\n",
    "f1 = open('2q6h.pdb', 'r')\n",
    "#loop over lines in file\n",
    "for next in f1:\n",
    "    #identify lines that contain sequences\n",
    "    if next[:6] == 'SEQRES':\n",
    "        #strip away white space and\n",
    "        #convert line into list\n",
    "        line = next.strip().split()\n",
    "        #delete descriptor information\n",
    "        #at beginning of each line\n",
    "        del line[:4]\n",
    "        #loop over amino acids in line\n",
    "        for aa in line:\n",
    "            #add to sequence list\n",
    "            protSeq.append(aa)\n",
    "#close file\n",
    "f1.close()\n",
    "\n",
    "import collections\n",
    "\n",
    "count=collections.Counter(protSeq)\n",
    "for aa in sorted(count.keys()): print aa, count[aa]\n"
   ]
  },
  {
   "cell_type": "markdown",
   "metadata": {},
   "source": [
    "## Exercise 5.7\n",
    "Just some silly modules...\n"
   ]
  },
  {
   "cell_type": "markdown",
   "metadata": {},
   "source": [
    "## Exercise 5.8"
   ]
  },
  {
   "cell_type": "code",
   "execution_count": 6,
   "metadata": {
    "scrolled": true
   },
   "outputs": [
    {
     "name": "stdout",
     "output_type": "stream",
     "text": [
      "{'gene1': ['ATGAGACGTAGTGCCAGTAGCGCGATGTAG'], 'gene2': ['ATGTTCGACGCATACGACGCGCAGTACCAGCAATGA', 'ATGACGCACCGGGATACACGACGCGGATTTTTACGCACCGAGATAGCATAA'], 'gene3': ['ATGGCACCCACTAGAGCCAGATTATTTTAA'], 'gene4': ['ATGCCCTAG', 'ATGCCCTAG', 'ATGCCCTAG', 'ATGCCCTAG']}\n"
     ]
    }
   ],
   "source": [
    "import sequence_tools\n",
    "\n",
    "pD=\"/Users/melyang/Desktop/PythonBootcamp2017/resources/\"\n",
    "myfilename=pD+\"seq_threeORF.fasta\"\n",
    "genes = sequence_tools.fastaparser(myfilename)\n",
    "\n",
    "orfs={}\n",
    "for gene in genes:\n",
    "    startindex=[]\n",
    "    mygene=genes[gene]\n",
    "    removed=0\n",
    "    \n",
    "    #ERROR: 032018, caught by WTY!\n",
    "    #while \"ATG\" in mygene:\n",
    "    #    oneindex=removed+mygene.find(\"ATG\")\n",
    "    #    startindex.append(oneindex)\n",
    "    #    mygene=genes[gene][(removed+oneindex+3):]\n",
    "    #removed+=oneindex+3\n",
    "    while \"ATG\" in mygene:\n",
    "        oneindex=mygene.find(\"ATG\")\n",
    "        startindex.append(removed+oneindex)\n",
    "        mygene=genes[gene][(removed+oneindex+3):]\n",
    "        removed+=oneindex+3\n",
    "\n",
    "    endindex=[]\n",
    "    for stopcodon in [\"TAG\",\"TAA\",\"TGA\"]:\n",
    "        removed=0\n",
    "        mygene=genes[gene]\n",
    "        while stopcodon in mygene:\n",
    "            oneindex=mygene.find(stopcodon)\n",
    "            endindex.append(removed+oneindex)\n",
    "            mygene=genes[gene][(removed+oneindex+3):]\n",
    "            removed+=(oneindex+3)\n",
    "\n",
    "    startindex.sort()\n",
    "    endindex.sort()\n",
    "\n",
    "    possibleorfs=[]\n",
    "    for start in startindex:\n",
    "        for end in endindex:\n",
    "            if start<end: \n",
    "                possibleorf=genes[gene][start:(end+3)]\n",
    "                if len(possibleorf)%3==0:\n",
    "                    if len(possibleorf)>6:\n",
    "                        possibleorfs.append(possibleorf)\n",
    "                        break\n",
    "                    else: break\n",
    "    if len(possibleorfs)==0: orfs[gene]=\"N/A\"\n",
    "    else: orfs[gene]=possibleorfs\n",
    "    \n",
    "print orfs"
   ]
  },
  {
   "cell_type": "code",
   "execution_count": null,
   "metadata": {
    "collapsed": true
   },
   "outputs": [],
   "source": [
    "{'gene1': ['ATGAGACGTAGTGCCAGTAGCGCGATGTAG'], 'gene2': ['ATGTTCGACGCATACGACGCGCAGTACCAGCAATGA', 'ATGACGCACCGGGATACACGACGCGGATTTTTACGCACCGAGATAGCATAA'], 'gene3': ['ATGGCACCCACTAGAGCCAGATTATTTTAA']}"
   ]
  },
  {
   "cell_type": "code",
   "execution_count": 75,
   "metadata": {},
   "outputs": [
    {
     "name": "stdout",
     "output_type": "stream",
     "text": [
      "{'gene1': 'ATGAGACGTAGTGCCAGTAGCGCGATGTAGCGATGACGCATGACGCGCGACGCGCGAGTGAGCCATACGCACGCATTGGCA', 'gene2': 'ATGTTCGACGCATACGACGCGCAGTACCAGCAATGACGCACCGGGATACACGACGCGGATTTTTACGCACCGAGATAGCATAAAAGACCATTAG', 'gene3': 'TTATGGCACCCACTAGAGCCAGATTATTTTAAA'}\n",
      "\n",
      "{'gene1': ['ATG-AGA-CGT-AGT-GCC-AGT-AGC-GCG-ATG-TAG'], 'gene2': ['ATG-TTC-GAC-GCA-TAC-GAC-GCG-CAG-TAC-CAG-CAA-TGA', 'ATG-ACG-CAC-CGG-GAT-ACA-CGA-CGC-GGA-TTT-TTA-CGC-ACC-GAG-ATA-GCA-TAA'], 'gene3': ['ATG-GCA-CCC-ACT-AGA-GCC-AGA-TTA-TTT-TAA']}\n"
     ]
    }
   ],
   "source": [
    "##ALTERNATE METHOD for 5.8: MODIFIED FROM HMWK BY SUNGANGYU\n",
    "\n",
    "import sequence_tools\n",
    "\n",
    "pD=\"/Users/melyang/Desktop/PythonBootcamp2017/resources/\"\n",
    "myfilename=pD+\"seq.fasta\"\n",
    "genomes = sequence_tools.fastaparser(myfilename)\n",
    "print genomes\n",
    "\n",
    "ORFsG={}\n",
    "genome_dic={}\n",
    "ORFsE={}\n",
    "ORFs={}\n",
    "#find three different orf and put in the dictionary\n",
    "for name in genomes:\n",
    "    ORFsG[name]=[[],[],[]] #orf_list\n",
    "    for n in range(3):\n",
    "        find=''\n",
    "        for a in range(len(genomes[name])): \n",
    "            if a !=0:  #always add the first letter\n",
    "                if a%3 == n: # add the dash when a%3 =n\n",
    "                    find=find+'-'+genomes[name][a]\n",
    "                else: \n",
    "                    find=find+genomes[name][a] \n",
    "            else:\n",
    "                find=find+genomes[name][a] \n",
    "            ORFsG[name][n]=[i for i in find.split('-') if len(i)==3]\n",
    "\n",
    "#make it beginning with \"atg\"\n",
    "for name in ORFsG:\n",
    "    ORFsE[name]=[]\n",
    "    for x,valL in enumerate(ORFsG[name]):\n",
    "        if 'ATG' in ORFsG[name][x]: \n",
    "            beg=ORFsG[name][x].index('ATG')\n",
    "            ends=[]\n",
    "            for stopcodon in ['TAG','TAA','TGA']:\n",
    "                if stopcodon in ORFsG[name][x]: \n",
    "                    ends.append(ORFsG[name][x].index(stopcodon))\n",
    "            ends=[i for i in ends if i>beg]\n",
    "            if len(ends)==0: continue\n",
    "            end=min(ends)\n",
    "            if len(ORFsG[name][x][beg:(end+1)])==0: continue\n",
    "            ORFsE[name].append('-'.join(ORFsG[name][x][beg:(end+1)]))\n",
    "\n",
    "print\n",
    "print ORFsE\n",
    "\n",
    "\n",
    "\n"
   ]
  },
  {
   "cell_type": "code",
   "execution_count": null,
   "metadata": {
    "collapsed": true
   },
   "outputs": [],
   "source": []
  }
 ],
 "metadata": {
  "kernelspec": {
   "display_name": "Python 2",
   "language": "python",
   "name": "python2"
  },
  "language_info": {
   "codemirror_mode": {
    "name": "ipython",
    "version": 2
   },
   "file_extension": ".py",
   "mimetype": "text/x-python",
   "name": "python",
   "nbconvert_exporter": "python",
   "pygments_lexer": "ipython2",
   "version": "2.7.13"
  }
 },
 "nbformat": 4,
 "nbformat_minor": 2
}
