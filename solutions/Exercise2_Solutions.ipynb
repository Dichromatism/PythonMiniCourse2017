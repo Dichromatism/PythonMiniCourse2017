{
 "cells": [
  {
   "cell_type": "markdown",
   "metadata": {},
   "source": [
    "## Exercise 2.1"
   ]
  },
  {
   "cell_type": "code",
   "execution_count": 88,
   "metadata": {},
   "outputs": [
    {
     "name": "stdout",
     "output_type": "stream",
     "text": [
      "Overwriting /Users/melyang/Desktop/PythonBootcamp2017/Lesson2/greeting.py\n"
     ]
    }
   ],
   "source": [
    "%%writefile /Users/melyang/Desktop/PythonBootcamp2017/Lesson2/greeting.py\n",
    "##Use writefile if you want to write to a text file to run in terminal!\n",
    "\n",
    "##Adapted from Liu Juncen's homework\n",
    "\n",
    "##2.1A\n",
    "print(\"What is your name, user?\")\n",
    "name=raw_input(\"My name is: \")\n",
    "print(\"Hello, {}!\".format(name))\n",
    "\n",
    "##2.1B\n",
    "print(\"When were you born?\")\n",
    "years=input(\"I was born in (write year born only):\")\n",
    "ages=2017-years\n",
    "print(\"Since you were born in {}, your age is {}!\".format(years,ages))"
   ]
  },
  {
   "cell_type": "markdown",
   "metadata": {},
   "source": [
    "## Exercise 2.2"
   ]
  },
  {
   "cell_type": "code",
   "execution_count": 6,
   "metadata": {},
   "outputs": [
    {
     "name": "stdout",
     "output_type": "stream",
     "text": [
      "First number: 5\n",
      "Second number: 3\n",
      "5.0 / 3.0\n",
      "1.66666666667\n"
     ]
    }
   ],
   "source": [
    "##2.2A\n",
    "x=float(raw_input(\"First number: \"))\n",
    "y=float(raw_input(\"Second number: \"))\n",
    "\n",
    "print x,\"/\",y\n",
    "print x/y"
   ]
  },
  {
   "cell_type": "code",
   "execution_count": 14,
   "metadata": {},
   "outputs": [
    {
     "name": "stdout",
     "output_type": "stream",
     "text": [
      "First number: 1\n",
      "Second number: 2\n",
      "Third number: 3\n",
      "Fourth number: 4\n",
      "Fifth number: 5\n",
      "1.0 2.0 3.0 4.0 5.0\n",
      "The sum is 15.00.\n",
      "The mean is 3.00.\n"
     ]
    }
   ],
   "source": [
    "##2.2B\n",
    "num1=float(raw_input(\"First number: \"))\n",
    "num2=float(raw_input(\"Second number: \"))\n",
    "num3=float(raw_input(\"Third number: \"))\n",
    "num4=float(raw_input(\"Fourth number: \"))\n",
    "num5=float(raw_input(\"Fifth number: \"))\n",
    "print num1, num2, num3, num4, num5\n",
    "mysum = num1+num2+num3+num4+num5\n",
    "\n",
    "print \"The sum is %.2f.\" % (mysum)\n",
    "print \"The mean is %.2f.\" % (mysum/5)"
   ]
  },
  {
   "cell_type": "code",
   "execution_count": 15,
   "metadata": {},
   "outputs": [
    {
     "name": "stdout",
     "output_type": "stream",
     "text": [
      "First number: 1\n",
      "Second number: 2\n",
      "1.0 2.0\n",
      "2.0 1.0\n"
     ]
    }
   ],
   "source": [
    "##2.2C\n",
    "num1=float(raw_input(\"First number: \"))\n",
    "num2=float(raw_input(\"Second number: \"))\n",
    "print num1,num2\n",
    "num2,num1=num1,num2\n",
    "print num1,num2"
   ]
  },
  {
   "cell_type": "code",
   "execution_count": 26,
   "metadata": {},
   "outputs": [
    {
     "name": "stdout",
     "output_type": "stream",
     "text": [
      "Please specify a number of digits: 3\n",
      "Supply five numbers separated by ' ' that each have that many digits. 111 222 333 444 555\n",
      "111 222 333 444 555\n",
      "111 222 333 444 555\n",
      "The sum is 1665.00.\n",
      "The mean is 333.00.\n"
     ]
    }
   ],
   "source": [
    "##2.2D\n",
    "x=int(raw_input(\"Please specify a number of digits: \"))\n",
    "numbers=raw_input(\"Supply five numbers separated by ' ' that each have that many digits. \")\n",
    "print numbers\n",
    "num1=int(numbers[:x])\n",
    "num2=int(numbers[(x+1):(2*x+1)])\n",
    "num3=int(numbers[(2*x+2):(3*x+2)])\n",
    "num4=int(numbers[(3*x+3):(4*x+3)])\n",
    "num5=int(numbers[(4*x+3):])\n",
    "\n",
    "print num1, num2, num3, num4, num5\n",
    "mysum = num1+num2+num3+num4+num5\n",
    "\n",
    "print \"The sum is %.2f.\" % (mysum)\n",
    "print \"The mean is %.2f.\" % (mysum/5)"
   ]
  },
  {
   "cell_type": "markdown",
   "metadata": {},
   "source": [
    "## Exercise 2.3"
   ]
  },
  {
   "cell_type": "code",
   "execution_count": 30,
   "metadata": {},
   "outputs": [
    {
     "name": "stdout",
     "output_type": "stream",
     "text": [
      "hello \"world\", if that is your real name. \n",
      "That's World, to you\n",
      "hello \"world\", if that is your real name.\n",
      "That's World, to you\n"
     ]
    }
   ],
   "source": [
    "s = '''hello \"world\", if that is your real name. \n",
    "That's World, to you'''\n",
    "news = 'hello \"world\", if that is your real name.\\nThat\\'s World, to you'\n",
    "print s\n",
    "print news"
   ]
  },
  {
   "cell_type": "markdown",
   "metadata": {},
   "source": [
    "## Exercise 2.4"
   ]
  },
  {
   "cell_type": "code",
   "execution_count": 31,
   "metadata": {},
   "outputs": [
    {
     "name": "stdout",
     "output_type": "stream",
     "text": [
      "[1, 2, 3, 4, 5, 6] [1, 2, 3, 4, 5, 6] [] 5 [5, 6]\n",
      "[6, 5, 4, 3, 2, 1]\n",
      "[1, 2, 3, 4, 5, 6]\n",
      "3\n",
      "2\n",
      "1\n",
      "['y', 'x', 'z', 'w'] [2, 1, 3, 0] True\n"
     ]
    }
   ],
   "source": [
    "L = [1,2,3] + [4,5,6] ##Concatenating two lists: [1,2,3,4,5,6]\n",
    "print L, L[:], L[:0], L[-2], L[-2:] ##printing the list, a copy of the entire list, an empty list, the second to last element in the list 5, and the second to last element until the end [5,6] \n",
    "L.reverse() ##reversing the list\n",
    "print L ##[6,5,4,3,2,1]\n",
    "L.sort() ##sort the list\n",
    "print L  ##[1,2,3,4,5,6]\n",
    "idx = L.index(4)  ##Set variable idx to the position of the element 4\n",
    "print idx ## 3\n",
    "print {'a':1, 'b':2}['b'] ##print the value in the dictionary with key 'b' (will print 2)\n",
    "D = {'x':1, 'y':2, 'z':3} ##set up dictionary\n",
    "D['w'] = 0  ##Add new entry of key 'w' and value '0'\n",
    "print D['x'] + D['w']  ##Add the values for key 'x' and key 'w', 1+0=1\n",
    "print D.keys(), D.values(), D.has_key('z') ##print list of keys, list of values, and whether D has a key 'z' (True)"
   ]
  },
  {
   "cell_type": "markdown",
   "metadata": {},
   "source": [
    "## Exercise 2.5"
   ]
  },
  {
   "cell_type": "code",
   "execution_count": 44,
   "metadata": {},
   "outputs": [
    {
     "name": "stdout",
     "output_type": "stream",
     "text": [
      "['FuQiaomei', 'Melinda Yang', 'WangHongru', 'ZhangZhaoXia', 'Albert Ko']\n",
      "[]\n",
      "['FuQiaomei', 'Melinda Yang', 'WangHongru', '?', 'ZhangZhaoXia', 'Albert Ko']\n",
      "['FuQiaomei', 'Melinda Yang', 'WangHongru', 'your name', '?', 'ZhangZhaoXia', 'Albert Ko']\n",
      "['FuQiaomei', 'Melinda Yang', \"your teacher's name\", 'WangHongru', 'your name', '?', 'ZhangZhaoXia', 'Albert Ko']\n",
      "['FuQiaomei', 'Melinda Yang', \"your teacher's name\", 'AHHH', '?', 'ZhangZhaoXia', 'Albert Ko']\n",
      "['FuQiaomei', 'Melinda Yang', \"your teacher's name\", 'AHHH', 'AHHH2', '?', 'ZhangZhaoXia', 'Albert Ko']\n"
     ]
    }
   ],
   "source": [
    "fulab = ['FuQiaomei', 'Melinda Yang', 'WangHongru', 'ZhangZhaoXia', 'Albert Ko']\n",
    "\n",
    "##2.5A\n",
    "#print fulab[15] ##IndexError!\n",
    "\n",
    "##2.5B \n",
    "print fulab[-100:100] ##will include everything it can\n",
    "\n",
    "##2.5C\n",
    "print fulab[3:1] ##will give empty list\n",
    "fulab[3:1] = [\"?\"] #will add a new element \"?\" at the third index\n",
    "print fulab\n",
    "\n",
    "##2.5D\n",
    "fulab[3:3] = [\"your name\"]\n",
    "print fulab\n",
    "fulab.insert(2, \"your teacher's name\")\n",
    "print fulab\n",
    "fulab[3:5] = [\"AHHH\"] ##replaces elements in index 3 and 4 with 'AHHH'\n",
    "print fulab\n",
    "fulab[4:2] = [\"AHHH2\"]\n",
    "print fulab"
   ]
  },
  {
   "cell_type": "markdown",
   "metadata": {},
   "source": [
    "## Exercise 2.6"
   ]
  },
  {
   "cell_type": "code",
   "execution_count": 51,
   "metadata": {},
   "outputs": [
    {
     "name": "stdout",
     "output_type": "stream",
     "text": [
      "['I', ' ', 'a', 'm', ' ', 'a', ' ', 'm', 'a', 'j', 'o', 'r', ' ', 'p', 'y', 't', 'h', 'o', 'n', ' ', 'e', 'n', 't', 'h', 'u', 's', 'i', 'a', 's', 't', '.']\n",
      "1 ['I', ' ', 'a', 'm', ' ', 'a', ' ', 'm', 'a', 'j', 'o', 'r', ' ', 'p', 'y', 't', 'h', 'o', 'n', ' ', 'e', 'n', 't', 'h', 'u', 's', 'i', 'a', 's', 't', '.']\n",
      "2 ['a', 'm', ' ', 'a', ' ', 'm', 'a', 'j', 'o', 'r', ' ', 'p', 'y', 't', 'h', 'o', 'n', ' ', 'e', 'n', 't', 'h', 'u', 's', 'i', 'a', 's', 't', '.']\n",
      "3 ['I', ' ', 'a', 'm']\n",
      "4 [' ', 'a']\n",
      "5 ['.']\n",
      "6 ['t', '.']\n",
      "7 ['I', ' ', 'a', 'm', ' ', 'a', ' ', 'm', 'a', 'j', 'o', 'r', ' ', 'p', 'y', 't', 'h', 'o', 'n', ' ', 'e', 'n', 't', 'h', 'u', 's', 'i', 'a', 's', 't']\n",
      "8 [' ', 'm']\n",
      "9 ['.', 't', 's', 'a', 'i', 's', 'u', 'h', 't', 'n', 'e', ' ', 'n', 'o', 'h', 't', 'y', 'p', ' ', 'r', 'o', 'j', 'a', 'm', ' ', 'a', ' ', 'm', 'a', ' ', 'I']\n",
      "[0, 2, 4, 6, 8]\n",
      "[1, 3, 5, 7, 9]\n",
      "[0, 4, 8]\n"
     ]
    }
   ],
   "source": [
    "##2.6A\n",
    "x = \"I am a major python enthusiast.\"\n",
    "y = list(x)\n",
    "print y\n",
    "\n",
    "##2.6B\n",
    "print '1', y ##whole list\n",
    "print '2', y[2:] ##everything in list after index 2\n",
    "print '3', y[:4] ##everything in list until index 4 (not including index 4)\n",
    "print '4', y[1:3] ##y[1] and y[2]\n",
    "print '5', y[-1:] ##from end of list to end (list of last element)\n",
    "print '6', y[-2:] ##from second to end of list to end (list of last two elements)\n",
    "print '7', y[:-1] ##everything in list up to but not including last element\n",
    "print '8', y[1:4:2] ##everything from index 1 to index 3 (not including 4), but only even positions\n",
    "print '9', y[::-1] ##reverse list\n",
    "\n",
    "##2.6C\n",
    "mylst = [0,1,2,3,4,5,6,7,8,9]\n",
    "print mylst[::2]\n",
    "print mylst[1::2]\n",
    "print mylst[::4]"
   ]
  },
  {
   "cell_type": "markdown",
   "metadata": {},
   "source": [
    "## Exercise 2.7"
   ]
  },
  {
   "cell_type": "code",
   "execution_count": 61,
   "metadata": {},
   "outputs": [
    {
     "name": "stdout",
     "output_type": "stream",
     "text": [
      "{'qiaomei': 'swimming', 'melinda': 'sleeping', 'albert': 'eating', 'peng': 'reading', 'zhaoxia': 'eating', 'Terry': '?'}\n",
      "sleeping\n"
     ]
    }
   ],
   "source": [
    "favorites = {'peng':'reading','qiaomei':'swimming','zhaoxia':'eating',\n",
    "           'melinda':'sleeping','albert':'eating'}\n",
    "months = {'peng':'july','qiaomei':'april','zhaoxia':'january',\n",
    "           'melinda':'october','albert':'may'}\n",
    "##2.7A\n",
    "#print favorites['Terry'] ##Key Error!\n",
    "\n",
    "##2.7B\n",
    "favorites['Terry']=\"?\"\n",
    "print favorites\n",
    "\n",
    "##2.7C\n",
    "##In a list, we would get another index error for 2.7B, rather than a new entry in the list.\n",
    "\n",
    "##2.7D - Correction to original problem. Write a statement to check if a name is in your dictionary, and if so, to print the favorite activity. \n",
    "if 'melinda' in favorites: print favorites['melinda']"
   ]
  },
  {
   "cell_type": "markdown",
   "metadata": {},
   "source": [
    "## Exercise 2.8"
   ]
  },
  {
   "cell_type": "code",
   "execution_count": 76,
   "metadata": {},
   "outputs": [
    {
     "name": "stdout",
     "output_type": "stream",
     "text": [
      "set(['Qinghua', 'Beida', 'Fudan', 'CAS', 'Renmin', 'Jilin'])\n",
      "set(['Qinghua', 'Beida', 'Fudan', 'CAS', 'Renmin', 'Jilin'])\n",
      "set(['Beida', 'CAS', 'Renmin', 'Qinghua'])\n",
      "set(['Beida', 'CAS', 'Renmin', 'Qinghua'])\n",
      "set(['Jilin', 'Fudan'])\n",
      "set(['Jilin', 'Fudan'])\n"
     ]
    }
   ],
   "source": [
    "beijing_unis = {\"Beida\",\"CAS\",\"Qinghua\",\"Renmin\"}\n",
    "china_unis = {\"Beida\",\"CAS\",\"Qinghua\",\"Renmin\",\"Jilin\",\"Fudan\"}\n",
    "\n",
    "print beijing_unis.union(china_unis) ##union\n",
    "print beijing_unis | china_unis ##alternative\n",
    "\n",
    "print beijing_unis.intersection(china_unis) ##intersection\n",
    "print beijing_unis & china_unis ##alternative\n",
    "\n",
    "print china_unis.difference(beijing_unis) ##Chinese universities not in Beijing\n",
    "print china_unis-beijing_unis ##alternative"
   ]
  },
  {
   "cell_type": "markdown",
   "metadata": {},
   "source": [
    "## Exercise 2.9"
   ]
  },
  {
   "cell_type": "code",
   "execution_count": 93,
   "metadata": {},
   "outputs": [
    {
     "name": "stdout",
     "output_type": "stream",
     "text": [
      "The total number of amino acids is: 519\n",
      "ALA 54\n",
      "ARG 21\n",
      "ASN 14\n",
      "ASP 12\n",
      "GLN 6\n",
      "GLU 24\n",
      "GLY 45\n",
      "HIS 6\n",
      "ILE 54\n",
      "LEU 61\n",
      "LYS 19\n",
      "MET 13\n",
      "PHE 50\n",
      "PRO 25\n",
      "SER 18\n",
      "THR 27\n",
      "TRP 16\n",
      "TYR 17\n",
      "VAL 37\n",
      "\n",
      "ALA 54\n",
      "ARG 21\n",
      "ASN 14\n",
      "ASP 12\n",
      "GLN 6\n",
      "GLU 24\n",
      "GLY 45\n",
      "HIS 6\n",
      "ILE 54\n",
      "LEU 61\n",
      "LYS 19\n",
      "MET 13\n",
      "PHE 50\n",
      "PRO 25\n",
      "SER 18\n",
      "THR 27\n",
      "TRP 16\n",
      "TYR 17\n",
      "VAL 37\n"
     ]
    }
   ],
   "source": [
    "#initialize list to store sequence\n",
    "protSeq = []\n",
    "#open pdb file\n",
    "f1 = open('2q6h.pdb', 'r')\n",
    "#loop over lines in file\n",
    "for next in f1:\n",
    "    #identify lines that contain sequences\n",
    "    if next[:6] == 'SEQRES':\n",
    "        #strip away white space and\n",
    "        #convert line into list\n",
    "        line = next.strip().split()\n",
    "        #delete descriptor information\n",
    "        #at beginning of each line\n",
    "        del line[:4]\n",
    "        #loop over amino acids in line\n",
    "        for aa in line:\n",
    "            #add to sequence list\n",
    "            protSeq.append(aa)\n",
    "#close file\n",
    "f1.close()\n",
    "\n",
    "##print protSeq ##Just to see what original script gives me - a list of amino acids!\n",
    "\n",
    "##2.9A\n",
    "print \"The total number of amino acids is: %i\" % len(protSeq)\n",
    "'''\n",
    "##2.9B\n",
    "count={}\n",
    "for aa in protSeq: count[aa]=0\n",
    "for aa in protSeq: count[aa]+=1\n",
    "for aa in sorted(count.keys()): print aa, count[aa]\n",
    "print\n",
    "\n",
    "##2.9C\n",
    "count={}\n",
    "for aa in set(protSeq): count[aa]=0\n",
    "for aa in protSeq: count[aa]+=1\n",
    "for aa in sorted(count.keys()): print aa, count[aa]\n",
    "'''   \n",
    "\n",
    "##ALTERNATIVE for part B (adapted from Liu Juncen's homework)\n",
    "count={}\n",
    "for aa in protSeq: count[aa]=count.get(aa,0)+1\n",
    "for aa in sorted(count.keys()): print aa, count[aa]\n",
    "print     \n",
    "\n",
    "##ALTERNATIVE for part B/C (adapted from Zhang Zequan's homework)\n",
    "a=set(protSeq)\n",
    "for i in sorted(a): print i, protSeq.count(i)"
   ]
  },
  {
   "cell_type": "code",
   "execution_count": null,
   "metadata": {
    "collapsed": true
   },
   "outputs": [],
   "source": []
  }
 ],
 "metadata": {
  "kernelspec": {
   "display_name": "Python 2",
   "language": "python",
   "name": "python2"
  },
  "language_info": {
   "codemirror_mode": {
    "name": "ipython",
    "version": 2
   },
   "file_extension": ".py",
   "mimetype": "text/x-python",
   "name": "python",
   "nbconvert_exporter": "python",
   "pygments_lexer": "ipython2",
   "version": "2.7.13"
  }
 },
 "nbformat": 4,
 "nbformat_minor": 2
}
