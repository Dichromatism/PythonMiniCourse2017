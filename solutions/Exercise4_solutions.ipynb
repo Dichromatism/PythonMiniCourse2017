{
 "cells": [
  {
   "cell_type": "markdown",
   "metadata": {},
   "source": [
    "## Exercise 4.1\n",
    "\n",
    "A. What happens if you specify a delimiter that is not present in the **split** method? What about the **partition** method? Can you think of any reason(s) related to this difference that would why you might prefer to use one method versus another?\n",
    "\n",
    "For split, you get a list of one element containing the whole string. For partition, you get your tuple of three elements, listing empty string for the delimiter and the second partition. Partition might be useful because you have a stable tuple of three elements every time. Typing mystr.split(\"bad delimiter\")[1] will give you an error, whereas mystr.partition(\"bad delimiter\")[1] will not.\n",
    "\n",
    "\n",
    "B. What happens if you join a list using the empty string as a delimiter? Make a reasonable guess and then test this out.\n",
    "\n",
    "You will get a string joining the list, with each of the elements merged together - nothing separating them from each other.\n",
    "```python\n",
    "print ''.join(['a','g','c','t']\n",
    ">> 'agct'\n",
    "```"
   ]
  },
  {
   "cell_type": "markdown",
   "metadata": {},
   "source": [
    "## Exercise 4.2"
   ]
  },
  {
   "cell_type": "code",
   "execution_count": 11,
   "metadata": {},
   "outputs": [
    {
     "name": "stdout",
     "output_type": "stream",
     "text": [
      "['Molecular', 'Paleontology', 'Lab,', 'Institute', 'of', 'Vertebrate', 'Paleontology', 'and', 'Paleoanthropology,', 'Chinese', 'Academy', 'of', 'Sciences,', 'Beijing,', 'China']\n",
      "['Molecular Paleontology Lab', ' Institute of Vertebrate Paleontology and Paleoanthropology', ' Chinese Academy of Sciences', ' Beijing', ' China']\n",
      "['Molecular Paleontology Lab, Institute', 'Vertebrate Paleontology and Paleoanthropology, Chinese Academy', 'Sciences, Beijing, China']\n",
      "['Molecular Paleontology Lab, Institute of Vertebrate Paleontology and Paleoanthropology, Chinese Academy of Sciences, Beijing, China']\n",
      "China\n",
      "['Molecular Paleontology Lab, Institute of Vertebrate Paleontology and ', 'anthropology, Chinese Academy of Sciences, Beijing, China']\n"
     ]
    }
   ],
   "source": [
    "mystr = \"Molecular Paleontology Lab, Institute of Vertebrate Paleontology and Paleoanthropology, Chinese Academy of Sciences, Beijing, China\"\n",
    "\n",
    "##4.2A\n",
    "print mystr.split()\n",
    "\n",
    "##4.2B\n",
    "print mystr.split(',')\n",
    "\n",
    "##4.2C\n",
    "print mystr.split(' of ')\n",
    "\n",
    "##4.2D\n",
    "print mystr.split('zzz') ##Any delimiter not present in string\n",
    "\n",
    "##4.2E\n",
    "print mystr.partition('China')[1]  ##Also mystr.split(', ')[-1]\n",
    "\n",
    "##4.2F\n",
    "print mystr.rsplit('Paleo',1)\n"
   ]
  },
  {
   "cell_type": "markdown",
   "metadata": {},
   "source": [
    "## Exercise 4.2 (again, typo in exercises!)"
   ]
  },
  {
   "cell_type": "code",
   "execution_count": 21,
   "metadata": {},
   "outputs": [
    {
     "name": "stdout",
     "output_type": "stream",
     "text": [
      "MOLECULAR PALEONTOLOGY LAB, INSTITUTE OF VERTEBRATE PALEONTOLOGY AND PALEOANTHROPOLOGY, CHINESE ACADEMY OF SCIENCES, BEIJING, CHINA\n",
      "mOLECULAR pALEONTOLOGY lAB, iNSTITUTE OF vERTEBRATE pALEONTOLOGY AND pALEOANTHROPOLOGY, cHINESE aCADEMY OF sCIENCES, bEIJING, cHINA\n",
      "Molecular Paleontology Lab, IVPP, CAS, Beijing, Zhongguo\n",
      "Molecular Paleontology Lab,CAS,Zhongguo\n",
      "Molecular Paleontology Lab\tCAS\tZhongguo\n"
     ]
    }
   ],
   "source": [
    "mystr = \"Molecular Paleontology Lab, Institute of Vertebrate Paleontology and Paleoanthropology, Chinese Academy of Sciences, Beijing, China\"\n",
    "\n",
    "##4.2A\n",
    "print mystr.upper()\n",
    "\n",
    "##4.2B\n",
    "print mystr.swapcase()\n",
    "\n",
    "##4.2C\n",
    "mystr=mystr.replace(\"Institute of Vertebrate Paleontology and Paleoanthropology\",\"IVPP\")\n",
    "mystr=mystr.replace(\"Chinese Academy of Sciences\",\"CAS\")\n",
    "mystr=mystr.replace(\"China\",\"Zhongguo\")\n",
    "print mystr\n",
    "\n",
    "##4.2D\n",
    "mylist = mystr.split(\", \")\n",
    "mystr= \",\".join(mylist[::2])\n",
    "print mystr\n",
    "\n",
    "##4.2E\n",
    "print mystr.replace(',','\\t')"
   ]
  },
  {
   "cell_type": "markdown",
   "metadata": {},
   "source": [
    "## Exercise 4.3"
   ]
  },
  {
   "cell_type": "code",
   "execution_count": 30,
   "metadata": {},
   "outputs": [
    {
     "name": "stdout",
     "output_type": "stream",
     "text": [
      "HEADER    TRANSPORT PROTEIN                       05-JUN-07   2Q6H              \n",
      "TITLE     CRYSTAL STRUCTURE ANALYSIS OF LEUT COMPLEXED WITH L-LEUCINE, SODIUM,  \n",
      "TITLE    2 AND CLOMIPRAMINE           \n"
     ]
    }
   ],
   "source": [
    "myfile=open(\"2q6h.pdb\",'r')\n",
    "print myfile.read(200)\n",
    "myfile.close()\n",
    "\n",
    "##.read reads at most size bytes and returns as string.\n",
    "##If I put no argument, it reads out the whole file as a string.\n",
    "##If I put in a number x, it reads out the amount of string that is equivalent to a size of x bytes."
   ]
  },
  {
   "cell_type": "markdown",
   "metadata": {},
   "source": [
    "## Exercise 4.4"
   ]
  },
  {
   "cell_type": "code",
   "execution_count": 41,
   "metadata": {},
   "outputs": [],
   "source": [
    "newfile=open(\"ex4_4_a.txt\",'w')\n",
    "nuc=\"AGCT\"\n",
    "for ind1,b1 in enumerate(nuc):\n",
    "    for b2 in nuc[(ind1+1):]:\n",
    "        newfile.write(b1+\"------\"+b2+'\\n')\n",
    "newfile.close()\n",
    "\n",
    "myfile = open(\"ex4_4_a.txt\",'r')\n",
    "newfile=open(\"ex4_4_b.txt\",'w')\n",
    "myset=[line[:-1][::-1].lower()+'\\n' for line in myfile]\n",
    "newfile.writelines(myset)    \n",
    "newfile.close()\n",
    "myfile.close()\n"
   ]
  },
  {
   "cell_type": "markdown",
   "metadata": {},
   "source": [
    "## Exercise 4.5"
   ]
  },
  {
   "cell_type": "code",
   "execution_count": 44,
   "metadata": {},
   "outputs": [
    {
     "name": "stdout",
     "output_type": "stream",
     "text": [
      "Give me a gene name (add '>' in front): >gene1\n",
      "Give me the associated sequence: AAA\n",
      "Are we done? Y/N: N\n",
      "Give me a gene name (add '>' in front): >gene2\n",
      "Give me the associated sequence: CCC\n",
      "Are we done? Y/N: N\n",
      "Give me a gene name (add '>' in front): >gene3\n",
      "Give me the associated sequence: TTT\n",
      "Are we done? Y/N: N\n",
      "Give me a gene name (add '>' in front): >gene4\n",
      "Give me the associated sequence: ATA\n",
      "Are we done? Y/N: Y\n",
      "{'>gene1': 'AAA', '>gene3': 'TTT', '>gene2': 'CCC', '>gene4': 'ATA'}\n"
     ]
    }
   ],
   "source": [
    "##4.5A\n",
    "fastadat={}\n",
    "done=\"N\"\n",
    "while done==\"N\":\n",
    "    gene=raw_input(\"Give me a gene name (add '>' in front): \") \n",
    "    seq=raw_input(\"Give me the associated sequence: \")\n",
    "    fastadat[gene]=seq\n",
    "    arewedone=raw_input(\"Are we done? Y/N: \")\n",
    "    if arewedone==\"Y\": done=\"Y\"\n",
    "print fastadat\n",
    "\n",
    "##4.5B\n",
    "newfile=open(\"ex4_5_b.fasta\",'w')\n",
    "for gene in fastadat:\n",
    "    newfile.write(gene+'\\n')\n",
    "    newfile.write(fastadat[gene]+'\\n')\n",
    "newfile.close()"
   ]
  },
  {
   "cell_type": "markdown",
   "metadata": {},
   "source": [
    "## Exercise 4.6"
   ]
  },
  {
   "cell_type": "code",
   "execution_count": 65,
   "metadata": {},
   "outputs": [
    {
     "name": "stdout",
     "output_type": "stream",
     "text": [
      "Overwriting /Users/melyang/Desktop/PythonBootcamp2017/solutions/read_fasta.py\n"
     ]
    }
   ],
   "source": [
    "%%writefile /Users/melyang/Desktop/PythonBootcamp2017/solutions/read_fasta.py\n",
    "fh=open('seq.fasta','r')  #Open the fasta file for reading\n",
    "genes={}  #Create an empty dictionary that will be populated with 'genes' as keys and sequences as values\n",
    "for line in fh:     #Parse each line of the fasta file by looping through the file\n",
    "    line=line.strip()  #Strip to remove all whitespace and newline characters\n",
    "    if len(line)==0: continue ##If empty string, continue\n",
    "    if line[0]=='>':  #Search for the '>' as the first element of the string to tell you if you're dealing with a gene or a sequence\n",
    "        gene_name=line[1:]   #Define a new variable, gene_name, that is equal to everything in the line except the '>'.\n",
    "        genes[gene_name]=''  #Make gene_name a key in your dictionary, and use an empty string '' as a value placeholder\n",
    "    else:\n",
    "        genes[gene_name]+=line  #Add the subsequent sequence to the value\n",
    "fh.close()\n",
    " \n",
    "print genes"
   ]
  },
  {
   "cell_type": "code",
   "execution_count": 48,
   "metadata": {},
   "outputs": [
    {
     "name": "stdout",
     "output_type": "stream",
     "text": [
      "{'gene1': 'ATGAGACGTAGTGCCAGTAGCGCGATGTAGCGATGACGCATGACGCGCGACGCGCGAGTGAGCCATACGCACGCATTGGCA', 'gene2': 'ATGTTCGACGCATACGACGCGCAGTACCAGCAATGACGCACCGGGATACACGACGCGGATTTTTACGCACCGAGATAGCATAAAAGACCATTAG', 'gene3': 'TTATGGCACCCACTAGAGCCAGATTATTTTAAA'}\n"
     ]
    }
   ],
   "source": [
    "%%bash\n",
    "python read_fasta.py"
   ]
  },
  {
   "cell_type": "markdown",
   "metadata": {},
   "source": [
    "## Exercise 4.7"
   ]
  },
  {
   "cell_type": "code",
   "execution_count": 68,
   "metadata": {},
   "outputs": [
    {
     "name": "stdout",
     "output_type": "stream",
     "text": [
      "The fraction of bases that are different is 0.00265620283731\n"
     ]
    }
   ],
   "source": [
    "fh=open('neanderthals.fasta','r')  #Open the fasta file for reading\n",
    "genes={}  \n",
    "for line in fh:   \n",
    "    line=line.strip()  \n",
    "    if len(line)==0: continue\n",
    "    if line[0]=='>':  \n",
    "        gene_name=line[1:]   \n",
    "        genes[gene_name]=''  \n",
    "    else:\n",
    "        genes[gene_name]+=line \n",
    "fh.close()\n",
    "\n",
    "myseqs =[ i[1] for i in genes.items() ]\n",
    "\n",
    "diff,total=0,0\n",
    "for ind,i in enumerate(myseqs[0]):\n",
    "    total+=1\n",
    "    if i != myseqs[1][ind]: diff+=1\n",
    "print \"The fraction of bases that are different is\",float(diff)/total    "
   ]
  },
  {
   "cell_type": "markdown",
   "metadata": {},
   "source": [
    "## Exercise 4.8"
   ]
  },
  {
   "cell_type": "code",
   "execution_count": 57,
   "metadata": {},
   "outputs": [
    {
     "name": "stdout",
     "output_type": "stream",
     "text": [
      " Number of males: 40\n",
      "Number of females: 10\n",
      "Number of unidentified: 1\n",
      "6887 out of 2144502 missing, or 0.32%!\n",
      "UstIshim was genotyped!\n"
     ]
    }
   ],
   "source": [
    "##pt1\n",
    "pD=\"/Users/melyang/Desktop/PythonBootcamp2017/resources/\"\n",
    "myfile=open(pD+\"51.2.2M.ind\",'r') ##substitute archaic.ind\n",
    "mfu=[line.split()[1] for line in myfile]\n",
    "print \"Number of males:\",mfu.count(\"M\")\n",
    "print \"Number of females:\",mfu.count(\"F\")\n",
    "print \"Number of unidentified:\",mfu.count(\"U\")\n",
    "myfile.close()\n",
    "\n",
    "##pt2\n",
    "myindiv=\"UstIshim\" ##Substitute here for other individuals! Use their name in the third column.\n",
    "pD=\"/Users/melyang/Desktop/PythonBootcamp2017/resources/\"\n",
    "indfile=open(pD+\"51.2.2M.ind\",'r') ##substitute archaic.ind\n",
    "myindex=[ind for ind,line in enumerate(indfile) if line.split()[2]==myindiv][0]\n",
    "indfile.close()\n",
    "\n",
    "genofile=open(pD+\"51.2.2M.geno\",'r') ##substitute archaic.geno\n",
    "missing,total,hetero=0,0,0\n",
    "for line in genofile:\n",
    "    mycount=line[myindex]\n",
    "    total+=1\n",
    "    if mycount=='9': missing+=1\n",
    "    elif mycount=='1': hetero+=1\n",
    "    else: continue\n",
    "genofile.close()\n",
    "\n",
    "print missing,\"out of\",total,\"missing, or\",\"%.2f\" % (100*float(missing)/total)+\"%!\"\n",
    "if hetero==0: print myindiv,\"just got allele calls.\"\n",
    "else: print myindiv,\"was genotyped!\""
   ]
  },
  {
   "cell_type": "code",
   "execution_count": null,
   "metadata": {
    "collapsed": true
   },
   "outputs": [],
   "source": []
  }
 ],
 "metadata": {
  "kernelspec": {
   "display_name": "Python 2",
   "language": "python",
   "name": "python2"
  },
  "language_info": {
   "codemirror_mode": {
    "name": "ipython",
    "version": 2
   },
   "file_extension": ".py",
   "mimetype": "text/x-python",
   "name": "python",
   "nbconvert_exporter": "python",
   "pygments_lexer": "ipython2",
   "version": "2.7.13"
  }
 },
 "nbformat": 4,
 "nbformat_minor": 2
}
