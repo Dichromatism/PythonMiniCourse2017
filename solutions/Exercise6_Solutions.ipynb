{
 "cells": [
  {
   "cell_type": "markdown",
   "metadata": {},
   "source": [
    "## Exercise 6.1A"
   ]
  },
  {
   "cell_type": "code",
   "execution_count": 2,
   "metadata": {},
   "outputs": [
    {
     "name": "stdout",
     "output_type": "stream",
     "text": [
      "ORIGINAL\n",
      "set(['a', 'c', 'b', 'e', 'd'])\n",
      "DISCARD\n",
      "set(['a', 'c', 'b', 'e', 'd'])\n",
      "REMOVE\n",
      "remove causes an error because it requires the argument to be present in the set\n",
      "discard does not have this restriction\n"
     ]
    },
    {
     "ename": "KeyError",
     "evalue": "'q'",
     "output_type": "error",
     "traceback": [
      "\u001b[1;31m\u001b[0m",
      "\u001b[1;31mKeyError\u001b[0mTraceback (most recent call last)",
      "\u001b[1;32m<ipython-input-2-5c1b30aca157>\u001b[0m in \u001b[0;36m<module>\u001b[1;34m()\u001b[0m\n\u001b[0;32m     11\u001b[0m \u001b[1;32mprint\u001b[0m \u001b[1;34m\"remove causes an error because it requires the argument to be present in the set\"\u001b[0m\u001b[1;33m\u001b[0m\u001b[0m\n\u001b[0;32m     12\u001b[0m \u001b[1;32mprint\u001b[0m \u001b[1;34m\"discard does not have this restriction\"\u001b[0m\u001b[1;33m\u001b[0m\u001b[0m\n\u001b[1;32m---> 13\u001b[1;33m \u001b[0mset_of_letters\u001b[0m\u001b[1;33m.\u001b[0m\u001b[0mremove\u001b[0m\u001b[1;33m(\u001b[0m\u001b[1;34m'q'\u001b[0m\u001b[1;33m)\u001b[0m\u001b[1;33m\u001b[0m\u001b[0m\n\u001b[0m\u001b[0;32m     14\u001b[0m \u001b[1;32mprint\u001b[0m \u001b[0mset_of_letters\u001b[0m\u001b[1;33m\u001b[0m\u001b[0m\n",
      "\u001b[1;31mKeyError\u001b[0m: 'q'"
     ]
    }
   ],
   "source": [
    "list_of_letters = ['a', 'a', 'b', 'c','c','c','d','e']\n",
    "print 'ORIGINAL'\n",
    "set_of_letters = set(list_of_letters)\n",
    "print set_of_letters\n",
    "\n",
    "print 'DISCARD'\n",
    "set_of_letters.discard('q')\n",
    "print set_of_letters\n",
    "\n",
    "print 'REMOVE'\n",
    "print \"remove causes an error because it requires the argument to be present in the set\"\n",
    "print \"discard does not have this restriction\"\n",
    "set_of_letters.remove('q')\n",
    "print set_of_letters\n"
   ]
  },
  {
   "cell_type": "markdown",
   "metadata": {},
   "source": [
    "## Exercise 6.1B"
   ]
  },
  {
   "cell_type": "code",
   "execution_count": 3,
   "metadata": {},
   "outputs": [
    {
     "name": "stdout",
     "output_type": "stream",
     "text": [
      "set(['cook', 'shower', 'study', 'laundry', 'sweep'])\n",
      "We just finished the task, laundry!\n",
      "set(['cook', 'shower', 'study', 'sweep'])\n",
      "We just finished the task, sweep!\n",
      "set(['cook', 'shower', 'study'])\n",
      "This task, laundry, is already done!\n"
     ]
    }
   ],
   "source": [
    "tasks=set([\"laundry\",\"cook\",\"study\",\"sweep\",\"shower\"])\n",
    "\n",
    "def dotask(task):\n",
    "    try:\n",
    "        tasks.remove(task)\n",
    "        return \"We just finished the task, %s!\" % task\n",
    "    except KeyError:\n",
    "        return \"This task, %s, is already done!\" % task\n",
    "\n",
    "print tasks\n",
    "print dotask(\"laundry\")\n",
    "print tasks\n",
    "print dotask(\"sweep\")\n",
    "print tasks\n",
    "print dotask(\"laundry\")"
   ]
  },
  {
   "cell_type": "markdown",
   "metadata": {},
   "source": [
    "## Exercise 6.2"
   ]
  },
  {
   "cell_type": "code",
   "execution_count": 3,
   "metadata": {},
   "outputs": [
    {
     "name": "stdout",
     "output_type": "stream",
     "text": [
      "Overwriting /Users/melyang/Desktop/PythonBootcamp2017/pylibnew/sequence_tools.py\n"
     ]
    }
   ],
   "source": [
    "%%writefile ~/Desktop/PythonBootcamp2017/pylibnew/sequence_tools.py\n",
    "##6.2 NEW\n",
    "def fastaparser2(filename):\n",
    "    ##Deals with errors described in Ex 6.2\n",
    "    try:\n",
    "        fh=open(filename,'r')  #Open the fasta file for reading\n",
    "        genes={}  \n",
    "        for index,line in enumerate(fh): \n",
    "            if index==0:\n",
    "                if line[0] != '>': ##Ex6.2 part 2A\n",
    "                    print \"This is not a FASTA file, missing > in beginning!\"\n",
    "                    return None\n",
    "            line=line.strip()  \n",
    "            if len(line)==0: continue\n",
    "            if line[0]=='>':  \n",
    "                gene_name=line[1:]   \n",
    "                genes[gene_name]=''  \n",
    "            else:\n",
    "                sequencecheck=sum([1 for i in line if i not in \"AGTCNagtcn\"])\n",
    "                if sequencecheck>0:  ##Ex6.2 part 2B\n",
    "                    print \"This FASTA file has bad sequences at line\", index+1\n",
    "                    return None\n",
    "                genes[gene_name]+=line.upper()  ##Ex6.2 part 3\n",
    "        fh.close()\n",
    "        return genes\n",
    "    except IOError:\n",
    "        print filename, \"does not exist!\"  ##Ex6.2 part 1\n",
    "        return None\n",
    "    \n",
    "##5.5A OLD\n",
    "def fastaparser(filename):\n",
    "    fh=open(filename,'r')  #Open the fasta file for reading\n",
    "    genes={}  \n",
    "    for line in fh:   \n",
    "        line=line.strip()  \n",
    "        if len(line)==0: continue\n",
    "        if line[0]=='>':  \n",
    "            gene_name=line[1:]   \n",
    "            genes[gene_name]=''  \n",
    "        else:\n",
    "            genes[gene_name]+=line \n",
    "    fh.close()\n",
    "    return genes\n",
    "\n",
    "def revcomp1(seq):\n",
    "    ##METHOD 1##\n",
    "    compdata={\"A\":\"T\",\"T\":\"A\",\"C\":\"G\",\"G\":\"C\"}\n",
    "    seq=seq.upper()\n",
    "    seq=seq[::-1]\n",
    "    newseq=\"\"\n",
    "    for base in seq: \n",
    "        if base in compdata: newseq+=compdata[base]\n",
    "        else: newseq+=\"N\"\n",
    "    seq=newseq\n",
    "    return seq"
   ]
  },
  {
   "cell_type": "markdown",
   "metadata": {},
   "source": [
    "I created three fasta files below to test my errors."
   ]
  },
  {
   "cell_type": "code",
   "execution_count": 7,
   "metadata": {},
   "outputs": [
    {
     "name": "stdout",
     "output_type": "stream",
     "text": [
      "Overwriting /Users/melyang/Desktop/PythonBootcamp2017/resources/seq_badsequence.fasta\n"
     ]
    }
   ],
   "source": [
    "%%writefile ~/Desktop/PythonBootcamp2017/resources/seq_badsequence.fasta\n",
    ">gene1\n",
    "ATGAGACGTAGTGCCAGTAGCGCGATGTAGCG\n",
    "ATGAMMCATGACGCGCGACGCGCGAGTGAGCC\n",
    "ATACGCACGCATTGGCA\n",
    ">gene2\n",
    "ATGTTCGACGCATACGACGCGCAGTACCAGCA\n",
    "ATGACGCACCGGGATACACGACGCGGATTTTT\n",
    "ACGCACCGAGATAGCATAAAAGACCATTAG\n",
    ">gene3\n",
    "TTATGGCACCCACTAGAGCCAGATTATTTTAAA"
   ]
  },
  {
   "cell_type": "code",
   "execution_count": 6,
   "metadata": {},
   "outputs": [
    {
     "name": "stdout",
     "output_type": "stream",
     "text": [
      "Writing /Users/melyang/Desktop/PythonBootcamp2017/resources/seq_lowercase.fasta\n"
     ]
    }
   ],
   "source": [
    "%%writefile ~/Desktop/PythonBootcamp2017/resources/seq_lowercase.fasta\n",
    ">gene1\n",
    "atgagaCGTAGTGCCAGTAGCGCGATGTAGCG\n",
    "ATGACGCATGACGCGCGACGCGCGAGTGAGCC\n",
    "ATACGCACGCATTGGCA\n",
    ">gene2\n",
    "ATGTTCGACGCATACGACGCGCAGTACCAGCA\n",
    "ATGACGCACCGGGATACACGACGCGGATTTTT\n",
    "ACGCACCGAGATAGCATAAAAGACCATTAG\n",
    ">gene3\n",
    "TTATGGCACCCACTAGAGCCAGATTATTTTAAA"
   ]
  },
  {
   "cell_type": "code",
   "execution_count": 5,
   "metadata": {},
   "outputs": [
    {
     "name": "stdout",
     "output_type": "stream",
     "text": [
      "Overwriting /Users/melyang/Desktop/PythonBootcamp2017/resources/seq_badheader.fasta\n"
     ]
    }
   ],
   "source": [
    "%%writefile ~/Desktop/PythonBootcamp2017/resources/seq_badheader.fasta\n",
    "gene1\n",
    "ATGAGACGTAGTGCCAGTAGCGCGATGTAGCG\n",
    "ATGACGCATGACGCGCGACGCGCGAGTGAGCC\n",
    "ATACGCACGCATTGGCA\n",
    ">gene2\n",
    "ATGTTCGACGCATACGACGCGCAGTACCAGCA\n",
    "ATGACGCACCGGGATACACGACGCGGATTTTT\n",
    "ACGCACCGAGATAGCATAAAAGACCATTAG\n",
    ">gene3\n",
    "TTATGGCACCCACTAGAGCCAGATTATTTTAAA"
   ]
  },
  {
   "cell_type": "markdown",
   "metadata": {},
   "source": [
    "Here I run four commands to account for every type of error. "
   ]
  },
  {
   "cell_type": "code",
   "execution_count": 1,
   "metadata": {},
   "outputs": [
    {
     "name": "stdout",
     "output_type": "stream",
     "text": [
      "madeupfile.fasta does not exist!\n",
      "None\n",
      "This is not a FASTA file, missing > in beginning!\n",
      "None\n",
      "This FASTA file has bad sequences at line 3\n",
      "None\n",
      "{'gene1': 'ATGAGACGTAGTGCCAGTAGCGCGATGTAGCGATGACGCATGACGCGCGACGCGCGAGTGAGCCATACGCACGCATTGGCA', 'gene2': 'ATGTTCGACGCATACGACGCGCAGTACCAGCAATGACGCACCGGGATACACGACGCGGATTTTTACGCACCGAGATAGCATAAAAGACCATTAG', 'gene3': 'TTATGGCACCCACTAGAGCCAGATTATTTTAAA'}\n"
     ]
    }
   ],
   "source": [
    "import sequence_tools as st\n",
    "\n",
    "print st.fastaparser2(\"madeupfile.fasta\")\n",
    "print st.fastaparser2(\"../resources/seq_badheader.fasta\")\n",
    "print st.fastaparser2(\"../resources/seq_badsequence.fasta\")\n",
    "print st.fastaparser2(\"../resources/seq_lowercase.fasta\")"
   ]
  },
  {
   "cell_type": "markdown",
   "metadata": {},
   "source": [
    "## Exercise 6.3"
   ]
  },
  {
   "cell_type": "code",
   "execution_count": null,
   "metadata": {
    "collapsed": true
   },
   "outputs": [],
   "source": [
    "%%bash\n",
    "gzip ../resources/cerevisiae_genome.fasta"
   ]
  },
  {
   "cell_type": "code",
   "execution_count": 1,
   "metadata": {},
   "outputs": [
    {
     "name": "stdout",
     "output_type": "stream",
     "text": [
      "<gzip open file '/Users/melyang/Desktop/PythonBootcamp2017/resources/cerevisiae_genome.fasta.gz', mode 'rb' at 0x10a871030 0x10a796e10>\n"
     ]
    }
   ],
   "source": [
    "import mimetypes\n",
    "import gzip\n",
    "\n",
    "def open_file_by_mimetype(filename):\n",
    "    if mimetypes.guess_type(filename)[1]=='gzip':\n",
    "        return gzip.open(filename)\n",
    "    else: \n",
    "        return open(filename)\n",
    "\n",
    "pD=\"/Users/melyang/Desktop/PythonBootcamp2017/resources/\"\n",
    "myfile=open_file_by_mimetype(pD+\"cerevisiae_genome.fasta.gz\")\n",
    "print myfile"
   ]
  },
  {
   "cell_type": "markdown",
   "metadata": {},
   "source": [
    "Now adding both the function to **sequence_tools** and including the command in the fastaparser (now **fastaparser3**)!"
   ]
  },
  {
   "cell_type": "code",
   "execution_count": 2,
   "metadata": {},
   "outputs": [
    {
     "name": "stdout",
     "output_type": "stream",
     "text": [
      "Overwriting /Users/melyang/Desktop/PythonBootcamp2017/pylibnew/sequence_tools.py\n"
     ]
    }
   ],
   "source": [
    "%%writefile ~/Desktop/PythonBootcamp2017/pylibnew/sequence_tools.py\n",
    "\n",
    "##6.3 NEW\n",
    "def fastaparser3(filename):\n",
    "    ##Allows for gzip file opening\n",
    "    try:\n",
    "        fh=open_file_by_mimetype(filename)  #Open the fasta file for reading using function we wrote for Ex 6.3\n",
    "        genes={}  \n",
    "        for index,line in enumerate(fh): \n",
    "            if index==0:\n",
    "                if line[0] != '>': ##Ex6.2 part 2A\n",
    "                    print \"This is not a FASTA file, missing > in beginning!\"\n",
    "                    return None\n",
    "            line=line.strip()  \n",
    "            if len(line)==0: continue\n",
    "            if line[0]=='>':  \n",
    "                gene_name=line[1:]   \n",
    "                genes[gene_name]=''  \n",
    "            else:\n",
    "                sequencecheck=sum([1 for i in line if i not in \"AGTCNagtcn\"])\n",
    "                if sequencecheck>0:  ##Ex6.2 part 2B\n",
    "                    print \"This FASTA file has bad sequences at line\", index+1\n",
    "                    return None\n",
    "                genes[gene_name]+=line.upper()  ##Ex6.2 part 3\n",
    "        fh.close()\n",
    "        return genes\n",
    "    except IOError:\n",
    "        print filename, \"does not exist!\"  ##Ex6.2 part 1\n",
    "        return None\n",
    "    \n",
    "def open_file_by_mimetype(filename):\n",
    "    import mimetypes\n",
    "    import gzip\n",
    "    if mimetypes.guess_type(filename)[1]=='gzip':\n",
    "        return gzip.open(filename)\n",
    "    else: \n",
    "        return open(filename)\n",
    "\n",
    "##6.2 NEW\n",
    "def fastaparser2(filename):\n",
    "    ##Deals with errors described in Ex 6.2\n",
    "    try:\n",
    "        fh=open(filename,'r')  #Open the fasta file for reading\n",
    "        genes={}  \n",
    "        for index,line in enumerate(fh): \n",
    "            if index==0:\n",
    "                if line[0] != '>': ##Ex6.2 part 2A\n",
    "                    print \"This is not a FASTA file, missing > in beginning!\"\n",
    "                    return None\n",
    "            line=line.strip()  \n",
    "            if len(line)==0: continue\n",
    "            if line[0]=='>':  \n",
    "                gene_name=line[1:]   \n",
    "                genes[gene_name]=''  \n",
    "            else:\n",
    "                sequencecheck=sum([1 for i in line if i not in \"AGTCNagtcn\"])\n",
    "                if sequencecheck>0:  ##Ex6.2 part 2B\n",
    "                    print \"This FASTA file has bad sequences at line\", index+1\n",
    "                    return None\n",
    "                genes[gene_name]+=line.upper()  ##Ex6.2 part 3\n",
    "        fh.close()\n",
    "        return genes\n",
    "    except IOError:\n",
    "        print filename, \"does not exist!\"  ##Ex6.2 part 1\n",
    "        return None\n",
    "    \n",
    "##5.5A OLD\n",
    "def fastaparser(filename):\n",
    "    fh=open(filename,'r')  #Open the fasta file for reading\n",
    "    genes={}  \n",
    "    for line in fh:   \n",
    "        line=line.strip()  \n",
    "        if len(line)==0: continue\n",
    "        if line[0]=='>':  \n",
    "            gene_name=line[1:]   \n",
    "            genes[gene_name]=''  \n",
    "        else:\n",
    "            genes[gene_name]+=line \n",
    "    fh.close()\n",
    "    return genes\n",
    "\n",
    "def revcomp1(seq):\n",
    "    ##METHOD 1##\n",
    "    compdata={\"A\":\"T\",\"T\":\"A\",\"C\":\"G\",\"G\":\"C\"}\n",
    "    seq=seq.upper()\n",
    "    seq=seq[::-1]\n",
    "    newseq=\"\"\n",
    "    for base in seq: \n",
    "        if base in compdata: newseq+=compdata[base]\n",
    "        else: newseq+=\"N\"\n",
    "    seq=newseq\n",
    "    return seq"
   ]
  },
  {
   "cell_type": "markdown",
   "metadata": {},
   "source": [
    "Testing the code out! We only print the number of keys, because otherwise the dictionary may be too big!"
   ]
  },
  {
   "cell_type": "code",
   "execution_count": 1,
   "metadata": {},
   "outputs": [
    {
     "name": "stdout",
     "output_type": "stream",
     "text": [
      "17\n"
     ]
    }
   ],
   "source": [
    "import sequence_tools as st\n",
    "\n",
    "mydict = st.fastaparser3(\"../resources/cerevisiae_genome.fasta.gz\")\n",
    "print len(mydict.keys())"
   ]
  },
  {
   "cell_type": "markdown",
   "metadata": {},
   "source": [
    "### Exercise 6.4"
   ]
  },
  {
   "cell_type": "code",
   "execution_count": 13,
   "metadata": {},
   "outputs": [
    {
     "name": "stdout",
     "output_type": "stream",
     "text": [
      "There are 159 residues in the sequence\n",
      "\n",
      "Method 1\n",
      "A\t 36.237181\t 0.000000\t 57.820000\n",
      "\n",
      "Method 2\n",
      "[('A', 'Helix', 36.23718079673137), ('A', 'Other', 57.82)]\n"
     ]
    }
   ],
   "source": [
    "import sys, os\n",
    "\n",
    "full_seq = []\n",
    "helix_aa = []\n",
    "sheet_aa = []\n",
    "atoms = []\n",
    "f1 = open('../resources/1N1F.pdb' ,'r')\n",
    "for next in f1:\n",
    "    tmp = next.strip().split()\n",
    "    if tmp[0] == 'SEQRES':\n",
    "        if tmp[2] == 'A':\n",
    "            full_seq.extend(tmp[4:])\n",
    "    elif tmp[0] == 'HELIX':\n",
    "        try:\n",
    "            int(tmp[5])\n",
    "        except:\n",
    "            tmp[5] = tmp[5][:-1]\n",
    "        helix_aa.append(tmp[:9])\n",
    "    elif tmp[0] == 'SHEET':\n",
    "        sheet_aa.append(tmp[:10])\n",
    "    elif tmp[0] == 'ATOM':\n",
    "        if len(tmp) < 12:\n",
    "            begin = tmp[0:2]\n",
    "            end = tmp[3:]\n",
    "            middle = [tmp[2][:3], tmp[2][4:]]\n",
    "            tmp = begin + middle + end\n",
    "        try:\n",
    "            int(tmp[5])\n",
    "        except:\n",
    "            continue\n",
    "        atoms.append(tmp)\n",
    "\n",
    "######################\n",
    "\n",
    "num_helix_res = 0.0\n",
    "print \"There are %s residues in the sequence\" % len(full_seq)\n",
    "print \n",
    "# Set up a listing of features by residue, then fill it in as we go along\n",
    "feature = ['Other']*(10000)\n",
    "\n",
    "for aa in helix_aa:\n",
    "    # We add 1 because there are b-a+1 residues between a and b, inclusive\n",
    "    num_helix_res += float(aa[8]) - float(aa[5]) + 1\n",
    "    for i in range(int(aa[5]), int(aa[8])+1):\n",
    "        feature[i] = 'Helix'\n",
    "\n",
    "num_sheet_res = 0.0\n",
    "for sheet in sheet_aa:\n",
    "    num_sheet_res += float(sheet[9]) - float(sheet[6]) + 1\n",
    "    for i in range(int(sheet[6]), int(sheet[9])+1):\n",
    "        feature[i] = 'Sheet'\n",
    "\n",
    "\n",
    " # atom[4] == chain id\n",
    " # atom[5] == residue #\n",
    " # atom[10] == b-factor\n",
    "\n",
    "\n",
    "helix_bfactors = {}\n",
    "sheet_bfactors = {}\n",
    "other_bfactors = {}\n",
    "\n",
    "for atom in atoms:\n",
    "    Chain = atom[4]\n",
    "    BFactor = float(atom[10])\n",
    "    ResidueNum = int(atom[5])\n",
    "\n",
    "    if feature[ResidueNum] == 'Helix':\n",
    "        if Chain not in helix_bfactors:\n",
    "            helix_bfactors[Chain] = []\n",
    "        helix_bfactors[Chain].append(BFactor)\n",
    "    elif feature[ResidueNum] == 'Sheet':\n",
    "        if Chain not in sheet_bfactors:\n",
    "            sheet_bfactors[Chain] = []\n",
    "        sheet_bfactors[Chain].append(BFactor)\n",
    "    else:\n",
    "        if Chain not in sheet_bfactors:\n",
    "            other_bfactors[Chain] = []\n",
    "        other_bfactors[Chain].append(BFactor)\n",
    "'''\n",
    "## Original - Commented out because of error.\n",
    "for chain in helix_bfactors:\n",
    "    # I could have used any of the different bfactor listings\n",
    "    avg_helix = sum(helix_bfactors[chain])/len(helix_bfactors[chain])\n",
    "    avg_sheet = sum(sheet_bfactors[chain])/len(sheet_bfactors[chain])\n",
    "    avg_other = sum(other_bfactors[chain])/len(other_bfactors[chain])\n",
    "    print '%s\\t %5f\\t %5f\\t %5f' % (chain, avg_helix, avg_sheet, avg_other)\n",
    "'''    \n",
    "##The error is because certain values for 'chain' are not in the dictionary, hence a key error. \n",
    "##The methods below avoid assuming the value is already included in the dictionary. \n",
    "######################\n",
    "for chain in helix_bfactors:\n",
    "    try:\n",
    "        avg_helix = sum(helix_bfactors[chain])/len(helix_bfactors[chain])\n",
    "    except KeyError:\n",
    "        avg_helix = 0\n",
    "    try:\n",
    "        avg_sheet = sum(sheet_bfactors[chain])/len(sheet_bfactors[chain])\n",
    "    except KeyError:\n",
    "        avg_sheet = 0\n",
    "    try:\n",
    "        avg_other = sum(other_bfactors[chain])/len(other_bfactors[chain])\n",
    "    except KeyError:\n",
    "        avg_other = 0\n",
    "    print \"Method 1\"\n",
    "    print '%s\\t %5f\\t %5f\\t %5f' % (chain, avg_helix, avg_sheet, avg_other)\n",
    "    print\n",
    "\n",
    "\n",
    "######################\n",
    " \n",
    "bfactors = {'Helix':helix_bfactors, 'Beta sheet':sheet_bfactors, 'Other':other_bfactors}\n",
    "mytuples = []\n",
    "for y in bfactors:\n",
    "        for x in bfactors[y]:\n",
    "                myavg = sum(bfactors[y][x])/len(bfactors[y][x])\n",
    "                mytuples.append((x,y,myavg))\n",
    "print \"Method 2\" \n",
    "print sorted(mytuples)\n"
   ]
  },
  {
   "cell_type": "markdown",
   "metadata": {
    "collapsed": true
   },
   "source": [
    "## Exercise 6.5\n",
    "To make this run in a shorter amount of time, we will use smaller versions of the geno file!"
   ]
  },
  {
   "cell_type": "code",
   "execution_count": 72,
   "metadata": {
    "collapsed": true
   },
   "outputs": [],
   "source": [
    "%%bash\n",
    "## Used tail -n100000 to ensure I use at least two chromosomes in short try\n",
    "## A short easy check for comparison is \"head -n10\"\n",
    "tail -n100000 ../resources/51.2.2M.geno > ../resources/51.2.2M.short.geno\n",
    "tail -n100000 ../resources/51.2.2M.snp > ../resources/51.2.2M.short.snp\n",
    "cp ../resources/51.2.2M.ind ../resources/51.2.2M.short.ind"
   ]
  },
  {
   "cell_type": "code",
   "execution_count": 14,
   "metadata": {},
   "outputs": [
    {
     "name": "stdout",
     "output_type": "stream",
     "text": [
      "Overwriting geno2fasta.py\n"
     ]
    }
   ],
   "source": [
    "%%writefile geno2fasta.py\n",
    "\n",
    "import random\n",
    "import sys\n",
    "## python geno2fasta.py <filename> <individual>\n",
    "## filename: place the name prior to the \".ind/snp/geno\" file - they must all match!\n",
    "## individual: name of individual to search for and place in fasta file\n",
    "## ex. python geno2fasta.py ../resources/51.2.2M.short UstIshim\n",
    "\n",
    "myfh=sys.argv[1]\n",
    "myindiv=sys.argv[2]\n",
    "\n",
    "def getindex(fh,indiv):\n",
    "    ##Get index of UstIshim\n",
    "    indfile=open(\"%s.ind\" % fh,'r')\n",
    "    for ind,line in enumerate(indfile):\n",
    "        if line.split()[2]==indiv:\n",
    "            myindex=ind\n",
    "    indfile.close()    \n",
    "    return myindex\n",
    "\n",
    "def getsnpinfo(fh):\n",
    "    ##Save all possible alleles\n",
    "    snpfile=open(\"%s.snp\" % fh,'r')\n",
    "    snps=[]\n",
    "    for line in snpfile:\n",
    "        x=line.split()\n",
    "        snps.append((x[1],x[4],x[5]))\n",
    "    snpfile.close()\n",
    "    return snps\n",
    "\n",
    "def geno2fastaparser(fh,indiv,myindex,snps):\n",
    "    fastafile=open(\"%s.%s.fasta\" % (fh,indiv),'w')\n",
    "    genofile=open(\"%s.geno\" % fh,'r')\n",
    "    alreadydone,seqdat=[],[]\n",
    "    for ind,line in enumerate(genofile):\n",
    "        mygeno=line[myindex]\n",
    "        myinfo=snps[ind]\n",
    "\n",
    "        ## Figure out my bases to put in sequence\n",
    "        if mygeno=='0': basename=myinfo[1]\n",
    "        elif mygeno=='1': basename=random.choice(myinfo[1:3])\n",
    "        elif mygeno=='2': basename=myinfo[2]\n",
    "        else: basename=\"N\"\n",
    "\n",
    "        ## My check if chromosome has been done before.\n",
    "        ## If not, make new header and write to file, initializing new list to put sequence\n",
    "        ## If yes, then just keep adding base to seqdat list (I make list instead of string because faster)\n",
    "        ## I do not write each base directly to file because that is very computationally intensive.\n",
    "        ## When writing sequence to file, I cut it up into blocks of 50 base pairs, so it prints cleanly.\n",
    "        if myinfo[0] not in alreadydone:\n",
    "            if ind!=0: \n",
    "                ## I want to break the sequence after 50 base pairs. \n",
    "                cutupseqdat=[seqdat[i:(i+50)] for i in range(len(seqdat)) if i%50==0]\n",
    "                for seqfrag in cutupseqdat: fastafile.write(''.join(seqfrag)+'\\n') ## Add each sequence of 50 bp to fastafile\n",
    "                seqdat=[]\n",
    "            fastafile.write(\"> %s | chr%s\\n\" % (myindiv,myinfo[0]))\n",
    "            alreadydone.append(myinfo[0])\n",
    "            seqdat.append(basename)\n",
    "        else:\n",
    "            seqdat.append(basename)\n",
    "\n",
    "    ## I must add the last sequence in list to fasta file outside of the for loop\n",
    "    cutupseqdat=[seqdat[i:(i+50)] for i in range(len(seqdat)) if i%50==0]\n",
    "    for seqfrag in cutupseqdat: fastafile.write(''.join(seqfrag)+'\\n')\n",
    "\n",
    "    fastafile.close()\n",
    "    genofile.close()\n",
    "\n",
    "##Use above functions to make fasta file!\n",
    "myindex=getindex(myfh,myindiv)\n",
    "mysnps=getsnpinfo(myfh)\n",
    "geno2fastaparser(myfh,myindiv,myindex,mysnps)"
   ]
  },
  {
   "cell_type": "code",
   "execution_count": 12,
   "metadata": {},
   "outputs": [
    {
     "name": "stdout",
     "output_type": "stream",
     "text": [
      "> Loschbour | chr22\n",
      "> Loschbour | chr23\n",
      "> Loschbour | chr24\n",
      "\n",
      "> Loschbour | chr22\n",
      "CCTTGGCTGATCCCTCTGCNCGCTTCTCGTGAATATGGGTATTTTAAGAC\n",
      "CTTAGTGGCGCATATAGCATCCGGAATCTTTTTATATTCTGGCAAACAAC\n",
      "CCTGATTCGGGATTAAATGCCAACGAGCCGCACTAGCACGCAAGATCTAA\n",
      "TGAACCAGATTAATCGACTTGAATAGTGACGTAACCTCAACAACGGAAAC\n",
      "AATTTCTCTTTAGGGTTTACCGAGAATNTTACCTTATAGGGACAGGCTGC\n",
      "CTTTTCGCTTGCTCGACCAACGCGCTGACACAAGTCAGAGAGAACCTCTC\n",
      "TCATACAAGTGATCAAAAATTTATAGTATCGAAAGATTCTGAAACNTAGA\n",
      "CGTACTAGTCATAATATCTCAGTGGCCACGGCATATTGCGACAACCAATT\n",
      "CTTCTCGACCAACNAATATTGTCTGAGGTCGTTATTGCACCGGAAGACGC\n"
     ]
    }
   ],
   "source": [
    "%%bash\n",
    "\n",
    "## My check to make sure I have multiple headers and sequence data as expected for a fasta file. \n",
    "myindiv=\"Loschbour\"\n",
    "python geno2fasta.py /Users/melyang/Desktop/PythonBootcamp2017/resources/51.2.2M.short ${myindiv}\n",
    "grep \">\" ../resources/51.2.2M.short.${myindiv}.fasta\n",
    "echo ''\n",
    "head ../resources/51.2.2M.short.${myindiv}.fasta\n",
    "\n",
    "## Try it out now on the larger geno file? "
   ]
  },
  {
   "cell_type": "markdown",
   "metadata": {},
   "source": [
    "## Exercise 6.6"
   ]
  },
  {
   "cell_type": "code",
   "execution_count": 13,
   "metadata": {},
   "outputs": [
    {
     "name": "stdout",
     "output_type": "stream",
     "text": [
      " "
     ]
    }
   ],
   "source": [
    "run -p geno2fasta.py /Users/melyang/Desktop/PythonBootcamp2017/resources/51.2.2M UstIshim"
   ]
  },
  {
   "cell_type": "markdown",
   "metadata": {},
   "source": [
    "It runs pretty fast! I actually can't think of anything faster in this case - maybe seeing if anything is faster than the **random.choice** function? Most of my times is spent in the geno2fasta parser, but note that we also spent a while reading in all the SNP info. \n",
    "\n",
    "```\n",
    "         7938298 function calls in 9.303 seconds\n",
    "\n",
    "   Ordered by: internal time\n",
    "\n",
    "   ncalls  tottime  percall  cumtime  percall filename:lineno(function)\n",
    "        1    4.982    4.982    5.881    5.881 geno2fasta.py:31(geno2fastaparser)\n",
    "        1    2.180    2.180    3.403    3.403 geno2fasta.py:21(getsnpinfo)\n",
    "  2144553    1.014    0.000    1.014    0.000 {method 'split' of 'str' objects}\n",
    "  4289034    0.437    0.000    0.437    0.000 {method 'append' of 'list' objects}\n",
    "   472927    0.428    0.000    0.534    0.000 random.py:273(choice)\n",
    "   472927    0.055    0.000    0.055    0.000 {method 'random' of '_random.Random' objects}\n",
    "   472952    0.052    0.000    0.052    0.000 {len}\n",
    "    42901    0.048    0.000    0.048    0.000 {method 'join' of 'str' objects}\n",
    "       24    0.048    0.002    0.048    0.002 {range}\n",
    "    42925    0.039    0.000    0.039    0.000 {method 'write' of 'file' objects}\n",
    "        5    0.005    0.001    0.005    0.001 {method 'startswith' of 'unicode' objects}\n",
    "        1    0.005    0.005    9.292    9.292 {execfile}\n",
    "        1    0.003    0.003    0.003    0.003 posixpath.py:329(normpath)\n",
    "        5    0.002    0.000    0.002    0.000 {open}\n",
    "        1    0.002    0.002    0.002    0.002 geno2fasta.py:12(getindex)\n",
    "        1    0.002    0.002    0.002    0.002 {posix.getcwdu}\n",
    "        1    0.000    0.000    9.287    9.287 geno2fasta.py:2(<module>)\n",
    "        4    0.000    0.000    0.000    0.000 {method 'close' of 'file' objects}\n",
    "        1    0.000    0.000    9.303    9.303 interactiveshell.py:2431(safe_execfile)\n",
    "        1    0.000    0.000    0.005    0.005 posixpath.py:61(join)\n",
    "        1    0.000    0.000    0.000    0.000 syspathcontext.py:57(__enter__)\n",
    "        1    0.000    0.000    9.292    9.292 py3compat.py:282(execfile)\n",
    "        1    0.000    0.000    0.000    0.000 syspathcontext.py:54(__init__)\n",
    "        1    0.000    0.000    9.303    9.303 <string>:1(<module>)\n",
    "        1    0.000    0.000    0.010    0.010 posixpath.py:358(abspath)\n",
    "        1    0.000    0.000    0.000    0.000 posixpath.py:251(expanduser)\n",
    "        1    0.000    0.000    0.000    0.000 posixpath.py:120(dirname)\n",
    "        1    0.000    0.000    0.000    0.000 builtin_trap.py:74(__exit__)\n",
    "        2    0.000    0.000    0.000    0.000 {method 'encode' of 'unicode' objects}\n",
    "        1    0.000    0.000    0.000    0.000 py3compat.py:30(cast_bytes)\n",
    "        1    0.000    0.000    0.000    0.000 {method 'split' of 'unicode' objects}\n",
    "        1    0.000    0.000    0.000    0.000 py3compat.py:20(encode)\n",
    "        1    0.000    0.000    0.000    0.000 {method 'rfind' of 'unicode' objects}\n",
    "        1    0.000    0.000    0.000    0.000 traitlets.py:545(__get__)\n",
    "        4    0.000    0.000    0.000    0.000 {isinstance}\n",
    "        1    0.000    0.000    0.000    0.000 syspathcontext.py:64(__exit__)\n",
    "        1    0.000    0.000    0.000    0.000 {method 'rstrip' of 'unicode' objects}\n",
    "        1    0.000    0.000    0.000    0.000 traitlets.py:526(get)\n",
    "        1    0.000    0.000    0.000    0.000 builtin_trap.py:67(__enter__)\n",
    "        1    0.000    0.000    0.000    0.000 posixpath.py:52(isabs)\n",
    "        3    0.000    0.000    0.000    0.000 {method 'setdefault' of 'dict' objects}\n",
    "        1    0.000    0.000    0.000    0.000 {method 'endswith' of 'unicode' objects}\n",
    "        1    0.000    0.000    0.000    0.000 {method 'join' of 'unicode' objects}\n",
    "        1    0.000    0.000    0.000    0.000 {sys.getdefaultencoding}\n",
    "        1    0.000    0.000    0.000    0.000 {method 'disable' of '_lsprof.Profiler' objects}\n",
    "        1    0.000    0.000    0.000    0.000 {sys.getfilesystemencoding}\n",
    "```"
   ]
  }
 ],
 "metadata": {
  "kernelspec": {
   "display_name": "Python 2",
   "language": "python",
   "name": "python2"
  },
  "language_info": {
   "codemirror_mode": {
    "name": "ipython",
    "version": 2
   },
   "file_extension": ".py",
   "mimetype": "text/x-python",
   "name": "python",
   "nbconvert_exporter": "python",
   "pygments_lexer": "ipython2",
   "version": "2.7.13"
  }
 },
 "nbformat": 4,
 "nbformat_minor": 2
}
