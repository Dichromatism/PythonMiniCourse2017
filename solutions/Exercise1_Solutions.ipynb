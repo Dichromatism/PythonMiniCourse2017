{
 "cells": [
  {
   "cell_type": "markdown",
   "metadata": {},
   "source": [
    "## Exercise 1.1:\n",
    "If you have not gotten Python and the Jupyter Notebook to work (or Cygwin), then that is the first step! Please let your instructor know ASAP if this is an issue!\n",
    "\n",
    "**Hope everything is working! Please let us know if not!**\n"
   ]
  },
  {
   "cell_type": "markdown",
   "metadata": {},
   "source": [
    "## Exercise 1.2:"
   ]
  },
  {
   "cell_type": "code",
   "execution_count": 1,
   "metadata": {},
   "outputs": [
    {
     "name": "stdout",
     "output_type": "stream",
     "text": [
      "/Users/melyang/Desktop/PythonBootcamp2017/solutions\n"
     ]
    }
   ],
   "source": [
    "%%bash\n",
    "##Exercise 1.2A\n",
    "mkdir /Users/melyang/Desktop/PythonBootcamp2017/exercises/\n",
    "mkdir /Users/melyang/Desktop/PythonBootcamp2017/lessons/\n",
    "mkdir /Users/melyang/Desktop/PythonBootcamp2017/resources/\n",
    "\n",
    "##Exercise 1.2B\n",
    "cd /Users/melyang/Desktop/PythonBootcamp2017/resources/\n",
    "wget http://downloads.yeastgenome.org/sequence/S288C_reference/chromosomes/fasta/chr01.fsa\n",
    "##Do this for every .fsa file! If wget does not work, use:\n",
    "curl http://downloads.yeastgenome.org/sequence/S288C_reference/chromosomes/fasta/chr01.fsa > chr01.fsa\n",
    "##Make sure if you use curl to send it to a file using \">\"\n",
    "\n",
    "##Exercise 1.2C\n",
    "cat chr01.fsa chr02.fsa chr03.fsa chr04.fsa chr05.fsa chr06.fsa chr07.fsa chr08.fsa chr09.fsa chr10.fsa chr11.fsa chr12.fsa chr13.fsa chr14.fsa chr15.fsa chr16.fsa chrmt.fsa > cerevisiae_genome.fasta\n",
    "\n",
    "##Exercise 1.2D\n",
    "grep -c \">\" cerevisiae_genome.fasta ##The solution is 17 if you include \"mt\" and 16 if not.\n",
    "\n",
    "##Exercise 1.2E\n",
    "man wc ##Look at \"wc\" manual. wc gives you the byte/character/line count in your file. \n",
    "grep -v \">\" cerevisiae_genome.fasta | wc -c #12359733 This gives you character count of all sequence lines.\n",
    "##HOWEVER, count it up for the first sequence line - you should have 60 but count 61!\n",
    "##This is because the \\n for a new line is counted. Thus, you should also do:\n",
    "grep -v \">\" cerevisiae_genome.fasta | wc -l #202628 This counts number of sequence lines.\n",
    "##Therefore, the answer is 12359733-202628=12157105"
   ]
  },
  {
   "cell_type": "markdown",
   "metadata": {},
   "source": [
    "## Exercise 1.3:"
   ]
  },
  {
   "cell_type": "code",
   "execution_count": null,
   "metadata": {
    "collapsed": true
   },
   "outputs": [],
   "source": [
    "%%bash \n",
    "##Exercise 1.3A\n",
    "cd /Users/melyang/Desktop/PythonBootcamp2017/resources/\n",
    "wget http://downloads.yeastgenome.org/curation/chromosomal_feature/SGD_features.tab\n",
    "##OR##\n",
    "curl http://downloads.yeastgenome.org/curation/chromosomal_feature/SGD_features.tab > SGD_features.tab\n",
    "\n",
    "##Exercise 1.3B\n",
    "grep -c \"ORF\" SGD_features.tab ##6650\n",
    "##To be sure you are only looking in column 2, \n",
    "cut -f2 SGD_features.tab | grep -c \"ORF\" ## 6604 ORFs\n",
    "##Where are the extra ORFs appearing? \n",
    "\n",
    "##Exercise 1.3C\n",
    "cut -f3 SGD_features.tab | grep -c \"Verified\" ##5159 verified genes.\n",
    "cut -f3 SGD_features.tab | grep -c \"Uncharacterized\" ##728 uncharacterized genes.\n",
    "\n",
    "##Exercise 1.3D\n",
    "cut -f3 SGD_features.tab | sort -u\n",
    "##prints out:\n",
    "##\n",
    "##Dubious\n",
    "##Uncharacterized\n",
    "##Verified\n",
    "##Verified|silenced_gene\n",
    "##silenced_gene"
   ]
  },
  {
   "cell_type": "markdown",
   "metadata": {},
   "source": [
    "## Exercise 1.4"
   ]
  },
  {
   "cell_type": "code",
   "execution_count": null,
   "metadata": {
    "collapsed": true
   },
   "outputs": [],
   "source": [
    "%%bash\n",
    "head * ##Writes the first 10 lines of every file in current directory.\n",
    "head *.fsa  ##Writes the first 10 lines of every file in current directory ending in \".fsa\"\n",
    "head chr1*.fsa ##Writes the first 10 lines of every file beginning with \"chr1\" and ending in \".fsa\". Note that this includes \"chr11.fsa\", etc.\n",
    "head chr1* ##Writes first 10 lines of every file beginning with \"chr1\"\n",
    "head chr*1.fsa ##Writes first 10 lines of every file beginning with \"chr1\" and ending with \"1.fsa\"\n",
    "head chr*1 ##Writes first 10 lines of every file beginning with \"chr1\" and ending with \"1\". Likely, you will get an error saying no such file.\n",
    "grep 'S288C' * ##Looks for \"S288C\" in every file in directory.\n",
    "grep 'S288C' *.fsa ##Looks for \"S288C\" in every file ending with \".fsa\"\n",
    "grep 'BK006935.2' * ##Looks for \"BK006935.2\" in every file in directory. \n",
    "cat * | grep 'BK006935.2' (what's the difference in the output between this one and the last one?)\n",
    "##Above, concatenate all files in directory and then search for lines containing \"BK006935.2\"\n",
    "##The command above looks in each file, so it will output the filename:line you grepped.\n",
    "##The command under that looks at one aggregated file, so will not output filenames.\n",
    "head *.fsa | grep 'chr' ##Get first ten lines of each \".fsa\" file and then looks in those lines for ones containing \"chr\"\n",
    "head *.fsa | grep 'chromosome' (what's the difference in the output between this one and the last one?)\n",
    "##Get first ten lines of each \".fsa\" file and then looks in those lines for ones containing \"chromosome\"\n",
    "##Presumably the higher line should contain every line in the last command, and potentially more. "
   ]
  },
  {
   "cell_type": "markdown",
   "metadata": {},
   "source": [
    "## Exercise 1.5"
   ]
  },
  {
   "cell_type": "code",
   "execution_count": null,
   "metadata": {
    "collapsed": true
   },
   "outputs": [],
   "source": [
    "##Exercise 1.5A\n",
    "wget https://intro-prog-bioinfo-2015.wikispaces.com/file/view/palinsreg.txt/556091941/palinsreg.txt\n",
    "##OR##\n",
    "curl https://intro-prog-bioinfo-2015.wikispaces.com/file/view/palinsreg.txt/556091941/palinsreg.txt > palinsreg.txt\n",
    "\n",
    "##Do same for \"palinscmp.txt\"\n",
    "\n",
    "##Exercise 1.5B\n",
    "grep -o '/G=[^ ]*' palinsreg.txt ##In the manual, I found that -o stands for \"only-matching\", and prints only the matching part of the lines\n",
    "\n",
    "##Exercise 1.5C\n",
    "grep -o '/G=[^ ]*' palinsreg.txt | cut -c4- > terminated_genes.txt\n",
    "\n",
    "##Bonus - you actually learned this already! \"sort -u\"\n",
    "grep -o '/G=[^ ]*' palinsreg.txt | cut -c4- | sort -u\n",
    "\n",
    "##You can do this also with palinscmp.txt."
   ]
  },
  {
   "cell_type": "markdown",
   "metadata": {},
   "source": [
    "## Exercise 1.6"
   ]
  },
  {
   "cell_type": "code",
   "execution_count": 3,
   "metadata": {},
   "outputs": [
    {
     "name": "stdout",
     "output_type": "stream",
     "text": [
      "Filesystem      Size   Used  Avail Capacity  iused    ifree %iused  Mounted on\n",
      "/dev/disk1     233Gi   65Gi  168Gi    28% 16996531 43984715   28%   /\n",
      "devfs          191Ki  191Ki    0Bi   100%      660        0  100%   /dev\n",
      "map -hosts       0Bi    0Bi    0Bi   100%        0        0  100%   /net\n",
      "map auto_home    0Bi    0Bi    0Bi   100%        0        0  100%   /home\n"
     ]
    }
   ],
   "source": [
    "%%bash\n",
    "df -h\n",
    "##df tells you the amount of disk space, and \"-h\" makes it human readable."
   ]
  },
  {
   "cell_type": "markdown",
   "metadata": {},
   "source": [
    "## Exercise 1.7"
   ]
  },
  {
   "cell_type": "code",
   "execution_count": null,
   "metadata": {
    "collapsed": true
   },
   "outputs": [],
   "source": [
    "##1.7A\n",
    "wget https://reich.hms.harvard.edu/sites/reich.hms.harvard.edu/files/inline-files/FuQ.zip\n",
    "##OR##\n",
    "curl https://reich.hms.harvard.edu/sites/reich.hms.harvard.edu/files/inline-files/FuQ.zip > FuQ.zip\n",
    "\n",
    "##1.7B\n",
    "unzip FuQ.zip \n",
    "\n",
    "##1.7C\n",
    "grep -w M 51.2.2M.ind | wc -l ##For males - do \"F\" for females and \"U\" for unidentified\n",
    "##Answer is M:F:U=40:10:1\n",
    "##Do same for archaic.ind - 21:6:1\n",
    "\n",
    "##1.7D\n",
    "wc -l 51.2.2M.snp ## 2144502 SNPs (954456 SNPs for archaic)\n",
    "grep -n UstIshim 51.2.2M.ind\n",
    "cut -c50 51.2.2M.geno | grep -v 9 | wc -l ##2137615 SNPs present for UstIshim\n",
    "##For V16 - 945292; Malta1 - 1439501; Oase1 - 285076; Loschbour - 2091584\n",
    "\n",
    "##1.7E\n",
    "##No heterozygotes means no '1' in the \".geno\" file.\n",
    "cut -c50 51.2.2M.geno | grep 1 | wc -l\n",
    "##This comes out as 0 for Vestonice16, Malta1, and Oase1 but gives positive numbers for UstIshim and Malta1\n",
    "##Thus UstIshim and Malta1 are genotype calls, whereas the other three are allele calls. "
   ]
  },
  {
   "cell_type": "markdown",
   "metadata": {},
   "source": [
    "## Exercise 1.8"
   ]
  },
  {
   "cell_type": "code",
   "execution_count": 5,
   "metadata": {},
   "outputs": [
    {
     "name": "stdout",
     "output_type": "stream",
     "text": [
      "3 / 4\n",
      "0.75\n"
     ]
    }
   ],
   "source": [
    "##Exercise 1.8\n",
    "x=3\n",
    "y=4\n",
    "print x,\"/\",y\n",
    "print float(x)/y ##Need one number to be a float for result to be a float. "
   ]
  },
  {
   "cell_type": "markdown",
   "metadata": {},
   "source": [
    "## Exercise 1.9"
   ]
  },
  {
   "cell_type": "code",
   "execution_count": 10,
   "metadata": {},
   "outputs": [
    {
     "name": "stdout",
     "output_type": "stream",
     "text": [
      "The temperature from Celsius to Fahrenheit is: 32.0\n"
     ]
    }
   ],
   "source": [
    "temperature=0\n",
    "\n",
    "x=float(temperature)\n",
    "newtemp=(x*9/5)+32\n",
    "print \"The temperature from Celsius to Fahrenheit is:\", newtemp"
   ]
  },
  {
   "cell_type": "code",
   "execution_count": 9,
   "metadata": {},
   "outputs": [
    {
     "name": "stdout",
     "output_type": "stream",
     "text": [
      "The temperature from Fahrenheit to Celsius is: 37.7777777778\n"
     ]
    }
   ],
   "source": [
    "temperature=100\n",
    "\n",
    "x=float(temperature)\n",
    "newtemp=(x-32)*5/9\n",
    "print \"The temperature from Fahrenheit to Celsius is:\", newtemp"
   ]
  },
  {
   "cell_type": "code",
   "execution_count": 16,
   "metadata": {},
   "outputs": [
    {
     "name": "stdout",
     "output_type": "stream",
     "text": [
      "Overwriting /Users/melyang/Desktop/PythonBootcamp2017/Lesson1/C2F.py\n"
     ]
    }
   ],
   "source": [
    "%%writefile /Users/melyang/Desktop/PythonBootcamp2017/Lesson1/C2F.py\n",
    "\n",
    "temperature=0\n",
    "\n",
    "x=float(temperature)\n",
    "newtemp=(x*9/5)+32\n",
    "print \"The temperature\", temperature,\"from Celsius to Fahrenheit is:\", newtemp\n"
   ]
  },
  {
   "cell_type": "code",
   "execution_count": 17,
   "metadata": {},
   "outputs": [
    {
     "name": "stdout",
     "output_type": "stream",
     "text": [
      "Overwriting /Users/melyang/Desktop/PythonBootcamp2017/Lesson1/F2C.py\n"
     ]
    }
   ],
   "source": [
    "%%writefile /Users/melyang/Desktop/PythonBootcamp2017/Lesson1/F2C.py\n",
    "temperature=100\n",
    "\n",
    "x=float(temperature)\n",
    "newtemp=(x-32)*5/9\n",
    "print \"The temperature\", temperature,\"from Fahrenheit to Celsius is:\", newtemp"
   ]
  },
  {
   "cell_type": "code",
   "execution_count": 18,
   "metadata": {},
   "outputs": [
    {
     "name": "stdout",
     "output_type": "stream",
     "text": [
      "The temperature 0 from Celsius to Fahrenheit is: 32.0\n",
      "The temperature 100 from Fahrenheit to Celsius is: 37.7777777778\n"
     ]
    }
   ],
   "source": [
    "%%bash\n",
    "\n",
    "python /Users/melyang/Desktop/PythonBootcamp2017/Lesson1/C2F.py\n",
    "python /Users/melyang/Desktop/PythonBootcamp2017/Lesson1/F2C.py"
   ]
  },
  {
   "cell_type": "code",
   "execution_count": null,
   "metadata": {
    "collapsed": true
   },
   "outputs": [],
   "source": []
  }
 ],
 "metadata": {
  "kernelspec": {
   "display_name": "Python 2",
   "language": "python",
   "name": "python2"
  },
  "language_info": {
   "codemirror_mode": {
    "name": "ipython",
    "version": 2
   },
   "file_extension": ".py",
   "mimetype": "text/x-python",
   "name": "python",
   "nbconvert_exporter": "python",
   "pygments_lexer": "ipython2",
   "version": "2.7.13"
  }
 },
 "nbformat": 4,
 "nbformat_minor": 2
}
